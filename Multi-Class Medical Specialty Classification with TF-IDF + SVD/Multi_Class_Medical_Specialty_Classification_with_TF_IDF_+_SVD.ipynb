{
  "nbformat": 4,
  "nbformat_minor": 0,
  "metadata": {
    "colab": {
      "provenance": [],
      "gpuType": "T4"
    },
    "kernelspec": {
      "name": "python3",
      "display_name": "Python 3"
    },
    "language_info": {
      "name": "python"
    },
    "accelerator": "GPU"
  },
  "cells": [
    {
      "cell_type": "markdown",
      "source": [
        "# About Dataset\n",
        "\n",
        "link https://www.kaggle.com/datasets/tboyle10/medicaltranscriptions/data\n",
        "\n",
        "\n",
        "Medical data is extremely hard to find due to HIPAA privacy regulations. This dataset offers a solution by providing medical transcription samples."
      ],
      "metadata": {
        "id": "GxtG54F6Y792"
      }
    },
    {
      "cell_type": "markdown",
      "source": [
        "## Imports"
      ],
      "metadata": {
        "id": "stRyQWWXUYyR"
      }
    },
    {
      "cell_type": "code",
      "source": [
        "import nltk\n",
        "nltk.download('wordnet')\n",
        "nltk.download('punkt_tab')"
      ],
      "metadata": {
        "colab": {
          "base_uri": "https://localhost:8080/"
        },
        "id": "F34xnJJ3fqEn",
        "outputId": "b45d2d35-586b-46cc-f584-63a9139aafe0"
      },
      "execution_count": 1,
      "outputs": [
        {
          "output_type": "stream",
          "name": "stderr",
          "text": [
            "[nltk_data] Downloading package wordnet to /root/nltk_data...\n",
            "[nltk_data]   Package wordnet is already up-to-date!\n",
            "[nltk_data] Downloading package punkt_tab to /root/nltk_data...\n",
            "[nltk_data]   Package punkt_tab is already up-to-date!\n"
          ]
        },
        {
          "output_type": "execute_result",
          "data": {
            "text/plain": [
              "True"
            ]
          },
          "metadata": {},
          "execution_count": 1
        }
      ]
    },
    {
      "cell_type": "code",
      "execution_count": 2,
      "metadata": {
        "id": "Iij7tgLIUWDZ"
      },
      "outputs": [],
      "source": [
        "import pandas as pd\n",
        "import numpy as np\n",
        "import matplotlib.pyplot as plt\n",
        "import seaborn as sns\n",
        "import string\n",
        "import re\n",
        "from sklearn.feature_extraction.text import TfidfVectorizer\n",
        "from sklearn.decomposition import PCA\n",
        "from sklearn.linear_model import LogisticRegression\n",
        "from sklearn.model_selection import train_test_split\n",
        "\n",
        "from sklearn.metrics import confusion_matrix\n",
        "from sklearn.metrics import classification_report\n",
        "from sklearn.manifold import TSNE\n",
        "\n",
        "from nltk.tokenize import word_tokenize\n",
        "from nltk.tokenize import sent_tokenize\n",
        "from nltk.stem import WordNetLemmatizer\n",
        "\n",
        "from imblearn.over_sampling import SMOTE\n",
        "import kagglehub\n",
        "import os"
      ]
    },
    {
      "cell_type": "markdown",
      "source": [
        "## Load The Data"
      ],
      "metadata": {
        "id": "GBjbmpXvU-yG"
      }
    },
    {
      "cell_type": "code",
      "source": [
        "# Download latest version\n",
        "path = kagglehub.dataset_download(\"tboyle10/medicaltranscriptions\")\n",
        "\n",
        "print(\"Path to dataset files:\", path)"
      ],
      "metadata": {
        "colab": {
          "base_uri": "https://localhost:8080/"
        },
        "id": "h_z2rAiXUbT_",
        "outputId": "775768ac-ef02-4e71-fb3e-e3bb39b3e3f9"
      },
      "execution_count": 3,
      "outputs": [
        {
          "output_type": "stream",
          "name": "stdout",
          "text": [
            "Using Colab cache for faster access to the 'medicaltranscriptions' dataset.\n",
            "Path to dataset files: /kaggle/input/medicaltranscriptions\n"
          ]
        }
      ]
    },
    {
      "cell_type": "code",
      "source": [
        "print(os.listdir(path))"
      ],
      "metadata": {
        "id": "5uSoS73mUuqn",
        "colab": {
          "base_uri": "https://localhost:8080/"
        },
        "outputId": "8f1645cc-f805-4bf7-df6f-fc776a328fb8"
      },
      "execution_count": 4,
      "outputs": [
        {
          "output_type": "stream",
          "name": "stdout",
          "text": [
            "['mtsamples.csv']\n"
          ]
        }
      ]
    },
    {
      "cell_type": "code",
      "source": [
        "df = pd.read_csv(os.path.join(path,'mtsamples.csv'))"
      ],
      "metadata": {
        "id": "J0YXOnz0YWsj"
      },
      "execution_count": 5,
      "outputs": []
    },
    {
      "cell_type": "markdown",
      "source": [
        "## Explore The Data"
      ],
      "metadata": {
        "id": "E20xFD7TYh9e"
      }
    },
    {
      "cell_type": "code",
      "source": [
        "df.head()"
      ],
      "metadata": {
        "colab": {
          "base_uri": "https://localhost:8080/",
          "height": 310
        },
        "id": "GLNi3TiDYfDn",
        "outputId": "2aa4d159-c643-4133-d278-6ccbe20a2363"
      },
      "execution_count": 6,
      "outputs": [
        {
          "output_type": "execute_result",
          "data": {
            "text/plain": [
              "   Unnamed: 0                                        description  \\\n",
              "0           0   A 23-year-old white female presents with comp...   \n",
              "1           1           Consult for laparoscopic gastric bypass.   \n",
              "2           2           Consult for laparoscopic gastric bypass.   \n",
              "3           3                             2-D M-Mode. Doppler.     \n",
              "4           4                                 2-D Echocardiogram   \n",
              "\n",
              "             medical_specialty                                sample_name  \\\n",
              "0         Allergy / Immunology                         Allergic Rhinitis    \n",
              "1                   Bariatrics   Laparoscopic Gastric Bypass Consult - 2    \n",
              "2                   Bariatrics   Laparoscopic Gastric Bypass Consult - 1    \n",
              "3   Cardiovascular / Pulmonary                    2-D Echocardiogram - 1    \n",
              "4   Cardiovascular / Pulmonary                    2-D Echocardiogram - 2    \n",
              "\n",
              "                                       transcription  \\\n",
              "0  SUBJECTIVE:,  This 23-year-old white female pr...   \n",
              "1  PAST MEDICAL HISTORY:, He has difficulty climb...   \n",
              "2  HISTORY OF PRESENT ILLNESS: , I have seen ABC ...   \n",
              "3  2-D M-MODE: , ,1.  Left atrial enlargement wit...   \n",
              "4  1.  The left ventricular cavity size and wall ...   \n",
              "\n",
              "                                            keywords  \n",
              "0  allergy / immunology, allergic rhinitis, aller...  \n",
              "1  bariatrics, laparoscopic gastric bypass, weigh...  \n",
              "2  bariatrics, laparoscopic gastric bypass, heart...  \n",
              "3  cardiovascular / pulmonary, 2-d m-mode, dopple...  \n",
              "4  cardiovascular / pulmonary, 2-d, doppler, echo...  "
            ],
            "text/html": [
              "\n",
              "  <div id=\"df-728b224c-b2c2-4d02-b547-117de3f8d47b\" class=\"colab-df-container\">\n",
              "    <div>\n",
              "<style scoped>\n",
              "    .dataframe tbody tr th:only-of-type {\n",
              "        vertical-align: middle;\n",
              "    }\n",
              "\n",
              "    .dataframe tbody tr th {\n",
              "        vertical-align: top;\n",
              "    }\n",
              "\n",
              "    .dataframe thead th {\n",
              "        text-align: right;\n",
              "    }\n",
              "</style>\n",
              "<table border=\"1\" class=\"dataframe\">\n",
              "  <thead>\n",
              "    <tr style=\"text-align: right;\">\n",
              "      <th></th>\n",
              "      <th>Unnamed: 0</th>\n",
              "      <th>description</th>\n",
              "      <th>medical_specialty</th>\n",
              "      <th>sample_name</th>\n",
              "      <th>transcription</th>\n",
              "      <th>keywords</th>\n",
              "    </tr>\n",
              "  </thead>\n",
              "  <tbody>\n",
              "    <tr>\n",
              "      <th>0</th>\n",
              "      <td>0</td>\n",
              "      <td>A 23-year-old white female presents with comp...</td>\n",
              "      <td>Allergy / Immunology</td>\n",
              "      <td>Allergic Rhinitis</td>\n",
              "      <td>SUBJECTIVE:,  This 23-year-old white female pr...</td>\n",
              "      <td>allergy / immunology, allergic rhinitis, aller...</td>\n",
              "    </tr>\n",
              "    <tr>\n",
              "      <th>1</th>\n",
              "      <td>1</td>\n",
              "      <td>Consult for laparoscopic gastric bypass.</td>\n",
              "      <td>Bariatrics</td>\n",
              "      <td>Laparoscopic Gastric Bypass Consult - 2</td>\n",
              "      <td>PAST MEDICAL HISTORY:, He has difficulty climb...</td>\n",
              "      <td>bariatrics, laparoscopic gastric bypass, weigh...</td>\n",
              "    </tr>\n",
              "    <tr>\n",
              "      <th>2</th>\n",
              "      <td>2</td>\n",
              "      <td>Consult for laparoscopic gastric bypass.</td>\n",
              "      <td>Bariatrics</td>\n",
              "      <td>Laparoscopic Gastric Bypass Consult - 1</td>\n",
              "      <td>HISTORY OF PRESENT ILLNESS: , I have seen ABC ...</td>\n",
              "      <td>bariatrics, laparoscopic gastric bypass, heart...</td>\n",
              "    </tr>\n",
              "    <tr>\n",
              "      <th>3</th>\n",
              "      <td>3</td>\n",
              "      <td>2-D M-Mode. Doppler.</td>\n",
              "      <td>Cardiovascular / Pulmonary</td>\n",
              "      <td>2-D Echocardiogram - 1</td>\n",
              "      <td>2-D M-MODE: , ,1.  Left atrial enlargement wit...</td>\n",
              "      <td>cardiovascular / pulmonary, 2-d m-mode, dopple...</td>\n",
              "    </tr>\n",
              "    <tr>\n",
              "      <th>4</th>\n",
              "      <td>4</td>\n",
              "      <td>2-D Echocardiogram</td>\n",
              "      <td>Cardiovascular / Pulmonary</td>\n",
              "      <td>2-D Echocardiogram - 2</td>\n",
              "      <td>1.  The left ventricular cavity size and wall ...</td>\n",
              "      <td>cardiovascular / pulmonary, 2-d, doppler, echo...</td>\n",
              "    </tr>\n",
              "  </tbody>\n",
              "</table>\n",
              "</div>\n",
              "    <div class=\"colab-df-buttons\">\n",
              "\n",
              "  <div class=\"colab-df-container\">\n",
              "    <button class=\"colab-df-convert\" onclick=\"convertToInteractive('df-728b224c-b2c2-4d02-b547-117de3f8d47b')\"\n",
              "            title=\"Convert this dataframe to an interactive table.\"\n",
              "            style=\"display:none;\">\n",
              "\n",
              "  <svg xmlns=\"http://www.w3.org/2000/svg\" height=\"24px\" viewBox=\"0 -960 960 960\">\n",
              "    <path d=\"M120-120v-720h720v720H120Zm60-500h600v-160H180v160Zm220 220h160v-160H400v160Zm0 220h160v-160H400v160ZM180-400h160v-160H180v160Zm440 0h160v-160H620v160ZM180-180h160v-160H180v160Zm440 0h160v-160H620v160Z\"/>\n",
              "  </svg>\n",
              "    </button>\n",
              "\n",
              "  <style>\n",
              "    .colab-df-container {\n",
              "      display:flex;\n",
              "      gap: 12px;\n",
              "    }\n",
              "\n",
              "    .colab-df-convert {\n",
              "      background-color: #E8F0FE;\n",
              "      border: none;\n",
              "      border-radius: 50%;\n",
              "      cursor: pointer;\n",
              "      display: none;\n",
              "      fill: #1967D2;\n",
              "      height: 32px;\n",
              "      padding: 0 0 0 0;\n",
              "      width: 32px;\n",
              "    }\n",
              "\n",
              "    .colab-df-convert:hover {\n",
              "      background-color: #E2EBFA;\n",
              "      box-shadow: 0px 1px 2px rgba(60, 64, 67, 0.3), 0px 1px 3px 1px rgba(60, 64, 67, 0.15);\n",
              "      fill: #174EA6;\n",
              "    }\n",
              "\n",
              "    .colab-df-buttons div {\n",
              "      margin-bottom: 4px;\n",
              "    }\n",
              "\n",
              "    [theme=dark] .colab-df-convert {\n",
              "      background-color: #3B4455;\n",
              "      fill: #D2E3FC;\n",
              "    }\n",
              "\n",
              "    [theme=dark] .colab-df-convert:hover {\n",
              "      background-color: #434B5C;\n",
              "      box-shadow: 0px 1px 3px 1px rgba(0, 0, 0, 0.15);\n",
              "      filter: drop-shadow(0px 1px 2px rgba(0, 0, 0, 0.3));\n",
              "      fill: #FFFFFF;\n",
              "    }\n",
              "  </style>\n",
              "\n",
              "    <script>\n",
              "      const buttonEl =\n",
              "        document.querySelector('#df-728b224c-b2c2-4d02-b547-117de3f8d47b button.colab-df-convert');\n",
              "      buttonEl.style.display =\n",
              "        google.colab.kernel.accessAllowed ? 'block' : 'none';\n",
              "\n",
              "      async function convertToInteractive(key) {\n",
              "        const element = document.querySelector('#df-728b224c-b2c2-4d02-b547-117de3f8d47b');\n",
              "        const dataTable =\n",
              "          await google.colab.kernel.invokeFunction('convertToInteractive',\n",
              "                                                    [key], {});\n",
              "        if (!dataTable) return;\n",
              "\n",
              "        const docLinkHtml = 'Like what you see? Visit the ' +\n",
              "          '<a target=\"_blank\" href=https://colab.research.google.com/notebooks/data_table.ipynb>data table notebook</a>'\n",
              "          + ' to learn more about interactive tables.';\n",
              "        element.innerHTML = '';\n",
              "        dataTable['output_type'] = 'display_data';\n",
              "        await google.colab.output.renderOutput(dataTable, element);\n",
              "        const docLink = document.createElement('div');\n",
              "        docLink.innerHTML = docLinkHtml;\n",
              "        element.appendChild(docLink);\n",
              "      }\n",
              "    </script>\n",
              "  </div>\n",
              "\n",
              "\n",
              "    <div id=\"df-d77adcf7-aba7-40b6-a957-c00ab4f72c8f\">\n",
              "      <button class=\"colab-df-quickchart\" onclick=\"quickchart('df-d77adcf7-aba7-40b6-a957-c00ab4f72c8f')\"\n",
              "                title=\"Suggest charts\"\n",
              "                style=\"display:none;\">\n",
              "\n",
              "<svg xmlns=\"http://www.w3.org/2000/svg\" height=\"24px\"viewBox=\"0 0 24 24\"\n",
              "     width=\"24px\">\n",
              "    <g>\n",
              "        <path d=\"M19 3H5c-1.1 0-2 .9-2 2v14c0 1.1.9 2 2 2h14c1.1 0 2-.9 2-2V5c0-1.1-.9-2-2-2zM9 17H7v-7h2v7zm4 0h-2V7h2v10zm4 0h-2v-4h2v4z\"/>\n",
              "    </g>\n",
              "</svg>\n",
              "      </button>\n",
              "\n",
              "<style>\n",
              "  .colab-df-quickchart {\n",
              "      --bg-color: #E8F0FE;\n",
              "      --fill-color: #1967D2;\n",
              "      --hover-bg-color: #E2EBFA;\n",
              "      --hover-fill-color: #174EA6;\n",
              "      --disabled-fill-color: #AAA;\n",
              "      --disabled-bg-color: #DDD;\n",
              "  }\n",
              "\n",
              "  [theme=dark] .colab-df-quickchart {\n",
              "      --bg-color: #3B4455;\n",
              "      --fill-color: #D2E3FC;\n",
              "      --hover-bg-color: #434B5C;\n",
              "      --hover-fill-color: #FFFFFF;\n",
              "      --disabled-bg-color: #3B4455;\n",
              "      --disabled-fill-color: #666;\n",
              "  }\n",
              "\n",
              "  .colab-df-quickchart {\n",
              "    background-color: var(--bg-color);\n",
              "    border: none;\n",
              "    border-radius: 50%;\n",
              "    cursor: pointer;\n",
              "    display: none;\n",
              "    fill: var(--fill-color);\n",
              "    height: 32px;\n",
              "    padding: 0;\n",
              "    width: 32px;\n",
              "  }\n",
              "\n",
              "  .colab-df-quickchart:hover {\n",
              "    background-color: var(--hover-bg-color);\n",
              "    box-shadow: 0 1px 2px rgba(60, 64, 67, 0.3), 0 1px 3px 1px rgba(60, 64, 67, 0.15);\n",
              "    fill: var(--button-hover-fill-color);\n",
              "  }\n",
              "\n",
              "  .colab-df-quickchart-complete:disabled,\n",
              "  .colab-df-quickchart-complete:disabled:hover {\n",
              "    background-color: var(--disabled-bg-color);\n",
              "    fill: var(--disabled-fill-color);\n",
              "    box-shadow: none;\n",
              "  }\n",
              "\n",
              "  .colab-df-spinner {\n",
              "    border: 2px solid var(--fill-color);\n",
              "    border-color: transparent;\n",
              "    border-bottom-color: var(--fill-color);\n",
              "    animation:\n",
              "      spin 1s steps(1) infinite;\n",
              "  }\n",
              "\n",
              "  @keyframes spin {\n",
              "    0% {\n",
              "      border-color: transparent;\n",
              "      border-bottom-color: var(--fill-color);\n",
              "      border-left-color: var(--fill-color);\n",
              "    }\n",
              "    20% {\n",
              "      border-color: transparent;\n",
              "      border-left-color: var(--fill-color);\n",
              "      border-top-color: var(--fill-color);\n",
              "    }\n",
              "    30% {\n",
              "      border-color: transparent;\n",
              "      border-left-color: var(--fill-color);\n",
              "      border-top-color: var(--fill-color);\n",
              "      border-right-color: var(--fill-color);\n",
              "    }\n",
              "    40% {\n",
              "      border-color: transparent;\n",
              "      border-right-color: var(--fill-color);\n",
              "      border-top-color: var(--fill-color);\n",
              "    }\n",
              "    60% {\n",
              "      border-color: transparent;\n",
              "      border-right-color: var(--fill-color);\n",
              "    }\n",
              "    80% {\n",
              "      border-color: transparent;\n",
              "      border-right-color: var(--fill-color);\n",
              "      border-bottom-color: var(--fill-color);\n",
              "    }\n",
              "    90% {\n",
              "      border-color: transparent;\n",
              "      border-bottom-color: var(--fill-color);\n",
              "    }\n",
              "  }\n",
              "</style>\n",
              "\n",
              "      <script>\n",
              "        async function quickchart(key) {\n",
              "          const quickchartButtonEl =\n",
              "            document.querySelector('#' + key + ' button');\n",
              "          quickchartButtonEl.disabled = true;  // To prevent multiple clicks.\n",
              "          quickchartButtonEl.classList.add('colab-df-spinner');\n",
              "          try {\n",
              "            const charts = await google.colab.kernel.invokeFunction(\n",
              "                'suggestCharts', [key], {});\n",
              "          } catch (error) {\n",
              "            console.error('Error during call to suggestCharts:', error);\n",
              "          }\n",
              "          quickchartButtonEl.classList.remove('colab-df-spinner');\n",
              "          quickchartButtonEl.classList.add('colab-df-quickchart-complete');\n",
              "        }\n",
              "        (() => {\n",
              "          let quickchartButtonEl =\n",
              "            document.querySelector('#df-d77adcf7-aba7-40b6-a957-c00ab4f72c8f button');\n",
              "          quickchartButtonEl.style.display =\n",
              "            google.colab.kernel.accessAllowed ? 'block' : 'none';\n",
              "        })();\n",
              "      </script>\n",
              "    </div>\n",
              "\n",
              "    </div>\n",
              "  </div>\n"
            ],
            "application/vnd.google.colaboratory.intrinsic+json": {
              "type": "dataframe",
              "variable_name": "df",
              "summary": "{\n  \"name\": \"df\",\n  \"rows\": 4999,\n  \"fields\": [\n    {\n      \"column\": \"Unnamed: 0\",\n      \"properties\": {\n        \"dtype\": \"number\",\n        \"std\": 1443,\n        \"min\": 0,\n        \"max\": 4998,\n        \"num_unique_values\": 4999,\n        \"samples\": [\n          84,\n          2470,\n          2804\n        ],\n        \"semantic_type\": \"\",\n        \"description\": \"\"\n      }\n    },\n    {\n      \"column\": \"description\",\n      \"properties\": {\n        \"dtype\": \"category\",\n        \"num_unique_values\": 2348,\n        \"samples\": [\n          \" MRI left shoulder.\",\n          \" Left heart catheterization with left ventriculography and selective coronary angiography.  Percutaneous transluminal coronary angioplasty and stent placement of the right coronary artery.\",\n          \" Iron deficiency anemia.  She underwent a bone marrow biopsy which showed a normal cellular marrow with trilineage hematopoiesis.\"\n        ],\n        \"semantic_type\": \"\",\n        \"description\": \"\"\n      }\n    },\n    {\n      \"column\": \"medical_specialty\",\n      \"properties\": {\n        \"dtype\": \"category\",\n        \"num_unique_values\": 40,\n        \"samples\": [\n          \" Ophthalmology\",\n          \" Pediatrics - Neonatal\",\n          \" Physical Medicine - Rehab\"\n        ],\n        \"semantic_type\": \"\",\n        \"description\": \"\"\n      }\n    },\n    {\n      \"column\": \"sample_name\",\n      \"properties\": {\n        \"dtype\": \"category\",\n        \"num_unique_values\": 2377,\n        \"samples\": [\n          \" Revocation Admission \",\n          \" Bilateral Hip Pain \",\n          \" Inguinal Hernia Repair - 4 \"\n        ],\n        \"semantic_type\": \"\",\n        \"description\": \"\"\n      }\n    },\n    {\n      \"column\": \"transcription\",\n      \"properties\": {\n        \"dtype\": \"category\",\n        \"num_unique_values\": 2357,\n        \"samples\": [\n          \"SUBJECTIVE:,  Patient presents with Mom and Dad for her 5-year 3-month well-child check.  Family has not concerns stating patient has been doing well overall since last visit.  Taking in a well-balanced diet consisting of milk and dairy products, fruits, vegetables, proteins and grains with minimal junk food and snack food.  No behavioral concerns.  Gets along well with peers as well as adults.  Is excited to start kindergarten this upcoming school year.  Does attend daycare.  Normal voiding and stooling pattern.  No concerns with hearing or vision.  Sees the dentist regularly.  Growth and development:  Denver II normal passing all developmental milestones per age in areas of fine motor, gross motor, personal and social interaction and speech and language development.  See Denver II form in the chart.,ALLERGIES:,  None.,MEDICATIONS: , None.,FAMILY SOCIAL HISTORY:,  Unchanged since last checkup.  Lives at home with mother, father and sibling.  No smoking in the home.,REVIEW OF SYSTEMS:,  As per HPI; otherwise negative.,OBJECTIVE:,Vital Signs:  Weight 43 pounds.  Height 42-1/4 inches.  Temperature 97.7.  Blood pressure 90/64.,General:  Well-developed, well-nourished, cooperative, alert and interactive 5-year -3month-old white female in no acute distress.,HEENT:  Atraumatic, normocephalic.  Pupils equal, round and reactive.  Sclerae clear.  Red reflex present bilaterally.  Extraocular muscles intact.  TMs clear bilaterally.  Oropharynx:  Mucous membranes moist and pink.  Good dentition.,Neck:  Supple, no lymphadenopathy.,Chest:  Clear to auscultation bilaterally.  No wheeze or crackles.  Good air exchange.,Cardiovascular:  Regular rate and rhythm.  No murmur.  Good pulses bilaterally.,Abdomen:  Soft, nontender.  Nondistended.  Positive bowel sounds.  No masses or organomegaly.,GU:  Tanner I female genitalia.  Femoral pulses equal bilaterally.  No rash.,Extremities:  Full range of motion.  No cyanosis, clubbing or edema.,Back:  Straight.  No scoliosis.,Integument:  Warm, dry and pink without lesions.,Neurological:  Alert.  Good muscle tone and strength.  Cranial nerves II-XII grossly intact.  DTRs 2+/4+ bilaterally.,ASSESSMENT/PLAN:,1. Well 5-year 3-month-old white female.,2. Anticipatory guidance for growth and diet development and safety issues as well as immunizations.  Will receive MMR, DTaP and IPV today.  Discussed risks and benefits as well as possible side effects and symptomatic treatment.  Gave 5-year well-child check handout to mom.  Completed school pre-participation physical.  Copy in the chart.  Completed vision and hearing screening.  Reviewed results with family.,3. Follow up in one year for next well-child check or as needed for acute care.\",\n          \"PREOPERATIVE DIAGNOSES: , Erythema of the right knee and leg, possible septic knee.,POSTOPERATIVE DIAGNOSES:,  Erythema of the right knee superficial and leg, right septic knee ruled out.,INDICATIONS: , Mr. ABC is a 52-year-old male who has had approximately eight days of erythema over his knee.  He has been to multiple institutions as an outpatient for this complaint.  He has had what appears to be prepatellar bursa aspirated with little to no success.  He has been treated with Kefzol and 1 g of Rocephin one point.  He also reports, in the emergency department today, an attempt was made to aspirate his actual knee joint which was unsuccessful.  Orthopedic Surgery was consulted at this time.  Considering the patient's physical exam, there is a portal that would prove to be outside of the erythema that would be useful for aspiration of the knee.  After discussion of risks and benefits, the patient elected to proceed with aspiration through the anterolateral portal of his knee joint.,PROCEDURE:  ,The patient's right anterolateral knee area was prepped with Betadine times two and a 20-gauge spinal needle was used to approach the knee joint approximately 3 cm anterior and 2 cm lateral to the superolateral pole of the patella.  The 20-gauge spinal needle was inserted and entered the knee joint.  Approximately, 4 cc of clear yellow fluid was aspirated.  The patient tolerated the procedure well.,DISPOSITION: , Based upon the appearance of this synovial fluid, we have a very low clinical suspicion of a septic joint.  We will send this fluid to the lab for cell count, crystal exam, as well as culture and Gram stain.  We will follow these results.  After discussion with the emergency department staff, it appears that they tend to try to treat his erythema which appears to be cellulitis with IV antibiotics.\",\n          \"REASON FOR CONSULT:,  Depression.,HPI:,  The patient is an 87-year-old white female admitted for low back pain status post hip fracture sustained a few days before Thanksgiving in 2006.  The patient was diagnosed and treated for a T9 compression fraction with vertebroplasty.  Soon after discharge, the patient was readmitted with severe mid low back pain and found to have a T8 compression fracture.  This was also treated with vertebroplasty.  The patient is now complaining of back pain that fluctuates at time, acknowledging her pain medication works but not all the time.  Her pain is in her upper back around her shoulder blades.  The patient says lying down with the heated pad lessens the pain and that any physical activity increases it.  MRI on January 29, 2007, was positive for possible meningioma to the left of anterior box.,The patient reports of many depressive symptoms, has lost all interest in things she used to do (playing cards, reading).  Has no energy to do things she likes, but does participate in physical therapy, cries often and what she believes for no reason.  Does not see any future for herself.  Reports not being able to concentrate on anything saying she gets distracted by thoughts of how she does not want to live anymore.  Admits to decreased appetite, feeling depressed, and always wanting to be alone.  Claims that before her initial hospitalization for her hip fracture, she was highly active, enjoyed living independently at Terrace.  Denies suicidal ideations and homicidal ideations, but that she did not mind dying, and denies any manic symptoms including decreased need to sleep, inflated self-worth, and impulsivity.  Denies auditory and visual hallucinations.  No paranoid, delusions, or other abnormalities of thought content.  Denies panic attacks, flashbacks, and other feelings of anxiety.  Does admit to feeling restless at times.  Is concerned with her physical appearance while in the hospital, i.e., her hair looking \\\"awful.\\\",PAST MEDICAL HISTORY:,  Hypertension, cataracts, hysterectomy, MI, osteoporosis, right total knee replacement in April 2004, hip fracture, and newly diagnosed diabetes.  No history of thyroid problems, seizures, strokes, or head injuries.,CURRENT MEDICATIONS:,  Norvasc 10 mg p.o. daily, aspirin 81 mg p.o. daily, Lipitor 20 mg p.o. daily, Klonopin 0.5 mg p.o. b.i.d., digoxin 0.125 mg p.o. daily, Lexapro 10 mg p.o. daily, TriCor 145 mg p.o. each bedtime, Lasix 20 mg p.o. daily, Ismo 20 mg p.o. daily, lidocaine patch, Zestril, Prinivil 40 mg p.o. daily, Lopressor 75 mg p.o. b.i.d., Starlix 120 mg p.o. t.i.d., Pamelor 25 mg p.o. each bedtime, polyethylene glycol 17 g p.o. every other day, potassium chloride 20 mEq p.o. t.i.d., Norco one tablet p.o. q.4h. p.r.n., Zofran 4 mg IV q.6h.,HOME MEDICATIONS:,  Unknown.,ALLERGIES:,  CODEINE (HALLUCINATIONS).,FAMILY MEDICAL HISTORY:,  Unremarkable.,PAST PSYCHIATRIC HISTORY:,  Unremarkable.  Never taken any psychiatric medications or have ever had a family member with psychiatric illness.,SOCIAL/DEVELOPMENTAL HISTORY:,  Unremarkable childhood.  Married for 40 plus years, widowed in 1981.  Worked as administrative assistant in UTMB Hospitals VP's office.  Two children.  Before admission, lived in the Terrace Independent Living Center.  Was happy and very active while living there.  Had friends in the Terrace and would not mind going back there after discharge.  Occasional glass of wine at dinner.  Denies ever using illicit drugs and tobacco.,MENTAL STATUS EXAM:,  The patient is an 87-year-old white female with appropriate appearance, wearing street clothes while lying in bed with her eyes tightly closed.  Slight decrease in motor activity.  Normal eye contact.  Speech, low volume and rate.  Good articulation and inflexion.  Normal concentration.  Mood, labile, tearful at times, depressed, then euthymic.  Affect, mood congruent, full range.  Thought process, logical and goal directed.  Thought content, no delusions, suicidal or homicidal ideations.  Perception, no auditory or visual hallucinations.  Sensorium, alert, and oriented x3.  Memory, fair.  Information and intelligence, average.  Judgment and insight, fair.,MINI MENTAL STATUS EXAM,:  A 28/30.  Could not remember two out of the three recalled words.,ASSESSMENT:,  The patient is an 87-year-old white female with recent history of hip fracture and two thoracic compression fractures.  The patient reports being high functioning prior to admission and says her depression symptoms have occurred while being in the hospital.,Axis I:  Major depression disorder.,Axis II:  Deferred.,Axis III:  Osteoporosis, hypertension, hip fracture, possible diabetes, meningioma, MI, and right total knee replacement.,Axis IV:  Lives independently at Terrace, difficulty walking, hospitalization.,Axis V:  45.,PLAN:,  Continue Lexapro 10 mg daily and Pamelor 25 mg each bedtime monitor for adverse effects of TCA and worsening of depressive symptoms.  Discussed about possible inpatient psychiatric care.,Thank you for the consultation.\"\n        ],\n        \"semantic_type\": \"\",\n        \"description\": \"\"\n      }\n    },\n    {\n      \"column\": \"keywords\",\n      \"properties\": {\n        \"dtype\": \"string\",\n        \"num_unique_values\": 3849,\n        \"samples\": [\n          \"surgery, extensor tendon laceration, bier block, pip joint, extensor tendon, tendon, repair, finger, laceration, extensor,\",\n          \"surgery, scrotal incision, right vas, bleeding, anesthesia, vasectomy\",\n          \"radiology, i-125 implantation, tumor, prostate, prostate brachytherapy, implantationNOTE,: Thesetranscribed medical transcription sample reports and examples are provided by various users andare for reference purpose only. MTHelpLine does not certify accuracy and quality of sample reports.These transcribed medical transcription sample reports may include some uncommon or unusual formats;this would be due to the preference of the dictating physician. All names and dates have beenchanged (or removed) to keep confidentiality. Any resemblance of any type of name or date orplace or anything else to real world is purely incidental.\"\n        ],\n        \"semantic_type\": \"\",\n        \"description\": \"\"\n      }\n    }\n  ]\n}"
            }
          },
          "metadata": {},
          "execution_count": 6
        }
      ]
    },
    {
      "cell_type": "code",
      "source": [
        "df.isnull().sum()"
      ],
      "metadata": {
        "colab": {
          "base_uri": "https://localhost:8080/",
          "height": 272
        },
        "id": "TyRvKkHIYlL4",
        "outputId": "160b96c0-48ea-4819-b486-2a03a3fc0948"
      },
      "execution_count": 7,
      "outputs": [
        {
          "output_type": "execute_result",
          "data": {
            "text/plain": [
              "Unnamed: 0              0\n",
              "description             0\n",
              "medical_specialty       0\n",
              "sample_name             0\n",
              "transcription          33\n",
              "keywords             1068\n",
              "dtype: int64"
            ],
            "text/html": [
              "<div>\n",
              "<style scoped>\n",
              "    .dataframe tbody tr th:only-of-type {\n",
              "        vertical-align: middle;\n",
              "    }\n",
              "\n",
              "    .dataframe tbody tr th {\n",
              "        vertical-align: top;\n",
              "    }\n",
              "\n",
              "    .dataframe thead th {\n",
              "        text-align: right;\n",
              "    }\n",
              "</style>\n",
              "<table border=\"1\" class=\"dataframe\">\n",
              "  <thead>\n",
              "    <tr style=\"text-align: right;\">\n",
              "      <th></th>\n",
              "      <th>0</th>\n",
              "    </tr>\n",
              "  </thead>\n",
              "  <tbody>\n",
              "    <tr>\n",
              "      <th>Unnamed: 0</th>\n",
              "      <td>0</td>\n",
              "    </tr>\n",
              "    <tr>\n",
              "      <th>description</th>\n",
              "      <td>0</td>\n",
              "    </tr>\n",
              "    <tr>\n",
              "      <th>medical_specialty</th>\n",
              "      <td>0</td>\n",
              "    </tr>\n",
              "    <tr>\n",
              "      <th>sample_name</th>\n",
              "      <td>0</td>\n",
              "    </tr>\n",
              "    <tr>\n",
              "      <th>transcription</th>\n",
              "      <td>33</td>\n",
              "    </tr>\n",
              "    <tr>\n",
              "      <th>keywords</th>\n",
              "      <td>1068</td>\n",
              "    </tr>\n",
              "  </tbody>\n",
              "</table>\n",
              "</div><br><label><b>dtype:</b> int64</label>"
            ]
          },
          "metadata": {},
          "execution_count": 7
        }
      ]
    },
    {
      "cell_type": "code",
      "source": [
        "df.duplicated().sum()"
      ],
      "metadata": {
        "colab": {
          "base_uri": "https://localhost:8080/"
        },
        "id": "Mj0tuu-KYo4k",
        "outputId": "33f83670-4c94-4cc3-e4f8-a5540b5f3a3c"
      },
      "execution_count": 8,
      "outputs": [
        {
          "output_type": "execute_result",
          "data": {
            "text/plain": [
              "np.int64(0)"
            ]
          },
          "metadata": {},
          "execution_count": 8
        }
      ]
    },
    {
      "cell_type": "code",
      "source": [
        "df.shape"
      ],
      "metadata": {
        "colab": {
          "base_uri": "https://localhost:8080/"
        },
        "id": "lltWaqQCYsys",
        "outputId": "5c37a927-5de1-4d0e-9c98-f1865f6ea0d0"
      },
      "execution_count": 9,
      "outputs": [
        {
          "output_type": "execute_result",
          "data": {
            "text/plain": [
              "(4999, 6)"
            ]
          },
          "metadata": {},
          "execution_count": 9
        }
      ]
    },
    {
      "cell_type": "markdown",
      "source": [
        "## Preprocessing"
      ],
      "metadata": {
        "id": "R1BEnZJRb9YH"
      }
    },
    {
      "cell_type": "code",
      "source": [
        "# Droping nans\n",
        "df = df.dropna().reset_index(drop=True)"
      ],
      "metadata": {
        "id": "BVkmEpEXcId1"
      },
      "execution_count": 10,
      "outputs": []
    },
    {
      "cell_type": "code",
      "source": [
        "# A fuc^n to get unique words(vocabulary) and sentence count in a list of text\n",
        "\n",
        "def get_sentence(text):\n",
        "  sen_count = 0\n",
        "  word_count = 0\n",
        "  vocab = {}\n",
        "  set_count = 0 # Initialize set_count\n",
        "  for i in text:                                  # Iterates through every text element in the input list.\n",
        "    sentences =  sent_tokenize(str(i).lower())    # Uses sent_tokenize (from nltk.tokenize) to split text into individual sentences.\n",
        "    set_count +=  len(sentences)                  # Counts how many sentences are in this text and adds to the running total.\n",
        "    for sentence in sentences:\n",
        "      words = word_tokenize(sentence)             # Splits each sentence into tokens (words/punctuation) using word_tokenize.\n",
        "      for word in words:\n",
        "        if (word in vocab.keys()):                # if it already exists in vocab, increment its count. Otherwise, add it with a count of 1.\n",
        "          vocab[word] +=  1\n",
        "        else:\n",
        "          vocab[word] = 1\n",
        "\n",
        "    word_count = len(vocab.keys())                # Counts how many unique words were found in total (not the total tokens).\n",
        "    return sen_count,word_count                   # Returns a tuple:"
      ],
      "metadata": {
        "id": "wPehjCZScmVE"
      },
      "execution_count": 11,
      "outputs": []
    },
    {
      "cell_type": "code",
      "source": [
        "sent_count,word_count= get_sentence(df['transcription'].tolist())\n",
        "print(\"Number of sentences in transcriptions column: \"+ str(sent_count))\n",
        "print(\"Number of unique words in transcriptions column: \"+str(word_count))\n",
        "\n",
        "\n",
        "\n",
        "data_categories  = df.groupby(df['medical_specialty'])\n",
        "i = 1\n",
        "print('Original Categories')\n",
        "for catName,dataCategory in data_categories:\n",
        "    print('Cat:'+str(i)+' '+catName + ' : '+ str(len(dataCategory)) )\n",
        "    i = i+1\n"
      ],
      "metadata": {
        "colab": {
          "base_uri": "https://localhost:8080/"
        },
        "id": "9EeLTjg4fFRs",
        "outputId": "59ce3cd6-677e-4202-a3d2-42e2582d0208"
      },
      "execution_count": 12,
      "outputs": [
        {
          "output_type": "stream",
          "name": "stdout",
          "text": [
            "Number of sentences in transcriptions column: 0\n",
            "Number of unique words in transcriptions column: 138\n",
            "Original Categories\n",
            "Cat:1  Allergy / Immunology : 3\n",
            "Cat:2  Bariatrics : 18\n",
            "Cat:3  Cardiovascular / Pulmonary : 280\n",
            "Cat:4  Chiropractic : 4\n",
            "Cat:5  Consult - History and Phy. : 234\n",
            "Cat:6  Cosmetic / Plastic Surgery : 25\n",
            "Cat:7  Dentistry : 25\n",
            "Cat:8  Dermatology : 25\n",
            "Cat:9  Diets and Nutritions : 10\n",
            "Cat:10  Discharge Summary : 77\n",
            "Cat:11  ENT - Otolaryngology : 84\n",
            "Cat:12  Emergency Room Reports : 31\n",
            "Cat:13  Endocrinology : 15\n",
            "Cat:14  Gastroenterology : 195\n",
            "Cat:15  General Medicine : 146\n",
            "Cat:16  Hematology - Oncology : 62\n",
            "Cat:17  Hospice - Palliative Care : 5\n",
            "Cat:18  IME-QME-Work Comp etc. : 4\n",
            "Cat:19  Lab Medicine - Pathology : 8\n",
            "Cat:20  Letters : 20\n",
            "Cat:21  Nephrology : 63\n",
            "Cat:22  Neurology : 168\n",
            "Cat:23  Neurosurgery : 81\n",
            "Cat:24  Obstetrics / Gynecology : 130\n",
            "Cat:25  Office Notes : 44\n",
            "Cat:26  Ophthalmology : 79\n",
            "Cat:27  Orthopedic : 303\n",
            "Cat:28  Pain Management : 58\n",
            "Cat:29  Pediatrics - Neonatal : 42\n",
            "Cat:30  Physical Medicine - Rehab : 11\n",
            "Cat:31  Podiatry : 42\n",
            "Cat:32  Psychiatry / Psychology : 19\n",
            "Cat:33  Radiology : 251\n",
            "Cat:34  Rheumatology : 7\n",
            "Cat:35  SOAP / Chart / Progress Notes : 142\n",
            "Cat:36  Sleep Medicine : 18\n",
            "Cat:37  Speech - Language : 8\n",
            "Cat:38  Surgery : 1021\n",
            "Cat:39  Urology : 140\n"
          ]
        }
      ]
    },
    {
      "cell_type": "code",
      "source": [
        "# catgeories have less than 50 samples\n",
        "# may be they are imp but it'll creat dataa imbalance\n",
        "\n",
        "category_counts = df['medical_specialty'].value_counts()\n",
        "\n",
        "# Categories with less than 50 samples\n",
        "small_categories = category_counts[category_counts < 50]\n",
        "print(\"Categories with less than 50 samples:\")\n",
        "print(small_categories)"
      ],
      "metadata": {
        "colab": {
          "base_uri": "https://localhost:8080/"
        },
        "id": "ge6b_9SSfTRt",
        "outputId": "9add63ec-b7cf-425f-8e53-c9d52f2f4104"
      },
      "execution_count": 13,
      "outputs": [
        {
          "output_type": "stream",
          "name": "stdout",
          "text": [
            "Categories with less than 50 samples:\n",
            "medical_specialty\n",
            "Office Notes                  44\n",
            "Pediatrics - Neonatal         42\n",
            "Podiatry                      42\n",
            "Emergency Room Reports        31\n",
            "Dentistry                     25\n",
            "Cosmetic / Plastic Surgery    25\n",
            "Dermatology                   25\n",
            "Letters                       20\n",
            "Psychiatry / Psychology       19\n",
            "Sleep Medicine                18\n",
            "Bariatrics                    18\n",
            "Endocrinology                 15\n",
            "Physical Medicine - Rehab     11\n",
            "Diets and Nutritions          10\n",
            "Lab Medicine - Pathology       8\n",
            "Speech - Language              8\n",
            "Rheumatology                   7\n",
            "Hospice - Palliative Care      5\n",
            "IME-QME-Work Comp etc.         4\n",
            "Chiropractic                   4\n",
            "Allergy / Immunology           3\n",
            "Name: count, dtype: int64\n"
          ]
        }
      ]
    },
    {
      "cell_type": "code",
      "source": [
        "df_filtered = df[~df['medical_specialty'].isin(small_categories.index)]\n",
        "df = df_filtered.reset_index(drop=True)"
      ],
      "metadata": {
        "id": "k1KBMna0gsGz"
      },
      "execution_count": 14,
      "outputs": []
    },
    {
      "cell_type": "code",
      "source": [
        "\n",
        "plt.figure(figsize=(10,10))\n",
        "sns.countplot(y='medical_specialty', data = df )\n",
        "plt.show()"
      ],
      "metadata": {
        "colab": {
          "base_uri": "https://localhost:8080/",
          "height": 850
        },
        "id": "1pE6THWkhScd",
        "outputId": "7dbfc5dc-963a-442b-9507-79568b4c694d"
      },
      "execution_count": 15,
      "outputs": [
        {
          "output_type": "display_data",
          "data": {
            "text/plain": [
              "<Figure size 1000x1000 with 1 Axes>"
            ],
            "image/png": "[encoded data removed]"
          },
          "metadata": {}
        }
      ]
    },
    {
      "cell_type": "code",
      "source": [
        "# sample text to see\n",
        "df.iloc[1000]['transcription']"
      ],
      "metadata": {
        "colab": {
          "base_uri": "https://localhost:8080/",
          "height": 123
        },
        "id": "5eTCuwPfhaw0",
        "outputId": "9018507a-ba18-4ecb-b403-f4d3d095fc6a"
      },
      "execution_count": 22,
      "outputs": [
        {
          "output_type": "execute_result",
          "data": {
            "text/plain": [
              "'preoperative diagnosis right carpal tunnel syndrome postoperative diagnosis right carpal tunnel syndrome title of the procedure right carpal tunnel release complication there were no complication during the procedure specimen the specimen wa sent to pathology instrument all count were correct at the end of the case and no complication were encountered indication this is a year old female who have been complaining of right hand pain which wa steadily getting worse over a prolonged period of time the patient had tried nonoperative therapy which did not assist the patient the patient had previous diagnosis of carpal tunnel and emg showed compression of the right median nerve a a result of these finding the patient wa sent to my office presenting with this history and wa carefully evaluated on initial evaluation the patient had the symptomology of carpal tunnel syndrome the patient at the time had the risk benefit and alternative thoroughly explained to her all question were answered no guarantee were given the patient had agreed to the surgical procedure and the postoperative rehabilitation a needed detail of the procedure the patient wa brought to the operating room placed supine on the operating room table prepped and draped in the sterile fashion and wa given sedation the patient wa then given sedation once this wa complete the area overlying the carpal ligament wa carefully injected with lidocaine with epinephrine the patient had this area carefully and thoroughly injected with approximately ml of lidocaine with epinephrine and once this wa complete a blade knife wa then used to incise the skin opposite the radial aspect of the fourth ray careful dissection under direct visualization wa performed through the subcutaneous fat a well a through the palmar fascia a weitlaner retractor wa then used to retract the skin and careful dissection through the palmar fascia would then revealed the transverse carpal ligament this wa then carefully incised using a blade knife and once entry wa again into the carpal canal a freer elevator wa then inserted and under direct visualization the carpal ligament wa then released the transverse carpal ligament wa carefully released first in the distal direction until palmar fat could be visualized and by palpation no further ligament could be felt the area wa well hemostased with the lidocaine with epinephrine and both proximal and distal dissection along the nerve wa performed visualization of the transverse carpal ligament wa maintained with weitlaner retractor a well a centric both the centric and the ragnell were used to retract both proximal and distal corner of the incision and the entirety of the area wa under direct visualization at all time palmar fascia wa released both proximally and distally a well a the transverse carpal ligament direct palpation of the carpal canal demonstrated a full and complete release observation of the median nerve revealed an area of hyperemia in the distal two third of the nerve which demonstrated the likely area of compression once this wa complete hemostasis wa established using bipolar cautery and some small surface bleeder and irrigation of the area wa performed and then the closure wa achieved with chromic suture in a horizontal mattress and interrupted stitch xeroform wa then applied to the incision a bulky dressing wa then applied consisting of kerlix and ace wrap and the patient wa taken to the recovery room in stable condition without any complication'"
            ],
            "application/vnd.google.colaboratory.intrinsic+json": {
              "type": "string"
            }
          },
          "metadata": {},
          "execution_count": 22
        }
      ]
    },
    {
      "cell_type": "markdown",
      "source": [
        "you can see there is  alot of different symbols and all let's clear that out"
      ],
      "metadata": {
        "id": "pydBOpENhwXO"
      }
    },
    {
      "cell_type": "code",
      "source": [
        "# fuc to clean text you can use this any to text it'll work on all\n",
        "\n",
        "import re, string\n",
        "from nltk.tokenize import word_tokenize\n",
        "from nltk.stem import WordNetLemmatizer\n",
        "\n",
        "# Precompute once\n",
        "_PUNC_TABLE = str.maketrans('', '', string.punctuation)\n",
        "_REPLACE_BY_SPACE_RE = re.compile(r'[/(){}\\[\\]\\|@,;]')\n",
        "\n",
        "def clean_text(text, *, remove_digits=True, to_lower=True):\n",
        "    \"\"\"\n",
        "    Remove punctuation/symbols and collapse whitespace.\n",
        "    Keeps only letters/numbers/spaces (digits removable via flag).\n",
        "    \"\"\"\n",
        "    s = '' if text is None else str(text)\n",
        "\n",
        "    # normalize separators that often glue words\n",
        "    s = s.replace('_', ' ').replace('-', ' ')\n",
        "\n",
        "    if to_lower:\n",
        "        s = s.lower()\n",
        "\n",
        "    # strip standard punctuation\n",
        "    s = s.translate(_PUNC_TABLE)\n",
        "\n",
        "    # remove specific leftover symbols (belt-and-suspenders)\n",
        "    s = _REPLACE_BY_SPACE_RE.sub(' ', s)\n",
        "\n",
        "    # optionally drop digits\n",
        "    if remove_digits:\n",
        "        s = re.sub(r'\\d+', ' ', s)\n",
        "\n",
        "    # collapse whitespace\n",
        "    s = re.sub(r'\\s+', ' ', s).strip()\n",
        "    return s\n",
        "\n",
        "\n",
        "def lemmatize_text(text):\n",
        "    \"\"\"\n",
        "    Lemmatize the whole (already-cleaned) text.\n",
        "    \"\"\"\n",
        "    if not isinstance(text, str):\n",
        "        text = str(text)\n",
        "    lemmatizer = WordNetLemmatizer()\n",
        "    tokens = word_tokenize(text)\n",
        "    lemmas = [lemmatizer.lemmatize(t) for t in tokens]\n",
        "    return ' '.join(lemmas)\n",
        "\n",
        "\n",
        "def clean_and_lemmatize(text, *, remove_digits=True, to_lower=True):\n",
        "    \"\"\"\n",
        "    One-shot pipeline: clean -> lemmatize.\n",
        "    \"\"\"\n",
        "    return lemmatize_text(clean_text(text, remove_digits=remove_digits, to_lower=to_lower))\n"
      ],
      "metadata": {
        "id": "-7a9jVBThoZG"
      },
      "execution_count": 20,
      "outputs": []
    },
    {
      "cell_type": "code",
      "source": [
        "df['transcription'] = df['transcription'].apply(clean_text)\n",
        "df['transcription'] = df['transcription'].apply(clean_and_lemmatize)\n"
      ],
      "metadata": {
        "id": "uFJanixDiUtY"
      },
      "execution_count": 21,
      "outputs": []
    },
    {
      "cell_type": "code",
      "source": [
        "# TfidfVectorizer\n",
        "\n",
        "from sklearn.feature_extraction.text import TfidfVectorizer\n",
        "\n",
        "vectorizer = TfidfVectorizer(\n",
        "    analyzer='word',\n",
        "    stop_words='english',\n",
        "    ngram_range=(1,3),\n",
        "    max_df=0.75,\n",
        "    use_idf=True,\n",
        "    smooth_idf=True,\n",
        "    max_features=1000\n",
        ")\n",
        "\n",
        "tfIdfMat = vectorizer.fit_transform(df['transcription'].tolist())\n",
        "\n",
        "feature_names = sorted(vectorizer.get_feature_names_out())\n",
        "print(feature_names)\n"
      ],
      "metadata": {
        "colab": {
          "base_uri": "https://localhost:8080/"
        },
        "id": "FoGT4LX6iYM5",
        "outputId": "7a53a207-61de-4314-9d47-3d7bacd4ba0d"
      },
      "execution_count": 23,
      "outputs": [
        {
          "output_type": "stream",
          "name": "stdout",
          "text": [
            "['abdomen', 'abdomen soft', 'abdomen wa', 'abdominal', 'able', 'abnormal', 'abnormality', 'abscess', 'achieved', 'active', 'activity', 'acute', 'addition', 'additional', 'adequate', 'adhesion', 'administered', 'admission', 'admitted', 'advanced', 'age', 'ago', 'air', 'alert', 'allergy', 'allowed', 'alternative', 'anastomosis', 'anesthesia', 'anesthesia general', 'anesthesia general endotracheal', 'anesthesia wa', 'anesthetic', 'angle', 'ankle', 'anterior', 'anterior chamber', 'anteriorly', 'antibiotic', 'aorta', 'aortic', 'appear', 'appearance', 'appeared', 'appearing', 'appears', 'appendix', 'applied', 'applied patient', 'appropriate', 'approximated', 'approximately', 'approximately cm', 'area', 'area wa', 'arm', 'artery', 'artery wa', 'aspect', 'aspiration', 'assessment', 'associated', 'atrial', 'attachment', 'attention', 'attention wa', 'attention wa directed', 'attention wa turned', 'awakened', 'away', 'baby', 'balloon', 'base', 'based', 'bed', 'began', 'benefit', 'betadine', 'better', 'bilateral', 'bilaterally', 'biopsy', 'bipolar', 'bit', 'bladder', 'blade', 'bleeding', 'block', 'blood', 'blood loss', 'blood loss ml', 'blood pressure', 'blunt', 'blunt dissection', 'body', 'bone', 'bony', 'bovie', 'bowel', 'brain', 'branch', 'breast', 'breath', 'brought', 'brought operating', 'brought operating room', 'bypass', 'canal', 'cancer', 'cannula', 'capsular', 'capsule', 'carcinoma', 'cardiac', 'care', 'care unit', 'care wa', 'carefully', 'carotid', 'carotid artery', 'carpal', 'carpal tunnel', 'carried', 'cartilage', 'case', 'catheter', 'catheter wa', 'cautery', 'cavity', 'cc', 'cell', 'central', 'cervical', 'cervix', 'chamber', 'change', 'checked', 'chest', 'chest pain', 'child', 'chromic', 'chronic', 'circumflex', 'clamp', 'clamped', 'clear', 'clinic', 'clinical', 'clock', 'close', 'closed', 'closed running', 'closed using', 'closed vicryl', 'closure', 'cm', 'colon', 'come', 'common', 'complaint', 'complete', 'completed', 'completely', 'completion', 'complex', 'complication', 'component', 'compression', 'condition', 'confirmed', 'consent', 'consent wa', 'consent wa obtained', 'consistent', 'continue', 'continued', 'contrast', 'control', 'controlled', 'copious', 'copiously', 'copiously irrigated', 'cord', 'coronary', 'coronary artery', 'correct', 'count', 'count correct', 'course', 'created', 'ct', 'ct scan', 'cuff', 'culture', 'current', 'currently', 'cut', 'cyst', 'cystic', 'daily', 'day', 'decompression', 'decreased', 'deep', 'defect', 'deformity', 'degenerative', 'degree', 'delivered', 'delivery', 'demonstrated', 'denies', 'department', 'descending', 'described', 'description', 'description procedure', 'description procedure patient', 'developed', 'device', 'diabetes', 'diagnosis', 'diagnosis left', 'diagnosis right', 'diameter', 'did', 'diet', 'difficulty', 'dilated', 'direct', 'directed', 'disc', 'discharge', 'discharged', 'discussed', 'discussed patient', 'disease', 'disk', 'dissected', 'dissection', 'dissection wa', 'dissection wa carried', 'distal', 'distally', 'distress', 'divided', 'doe', 'doing', 'dorsal', 'dose', 'double', 'dr', 'drain', 'drain wa', 'drainage', 'draped', 'draped sterile', 'draped usual', 'draped usual sterile', 'dressing', 'dressing wa', 'dressing wa applied', 'drill', 'drug', 'dry', 'duct', 'dura', 'ear', 'easily', 'edema', 'edge', 'effusion', 'ekg', 'elbow', 'electrocautery', 'elevated', 'emergency', 'end', 'endotracheal', 'endotracheal anesthesia', 'enlarged', 'entered', 'entire', 'epidural', 'epinephrine', 'episode', 'erythema', 'esophagus', 'estimated', 'estimated blood', 'estimated blood loss', 'evaluated', 'evaluation', 'evidence', 'exam', 'examination', 'examined', 'excellent', 'excised', 'excision', 'explained', 'exposed', 'extended', 'extending', 'extension', 'extensor', 'external', 'extremity', 'extremity wa', 'extubated', 'eye', 'facial', 'failure', 'family', 'family history', 'fascia', 'fascia wa', 'fashion', 'fat', 'feel', 'felt', 'female', 'femoral', 'fever', 'field', 'fifth', 'final', 'finding', 'finger', 'fixation', 'flap', 'flap wa', 'flexor', 'flow', 'fluid', 'fluoroscopy', 'flushed', 'foley', 'foley catheter', 'follow', 'followed', 'following', 'followup', 'foot', 'foramen', 'forceps', 'fracture', 'free', 'french', 'frontal', 'function', 'fusion', 'gait', 'gallbladder', 'gauge', 'general', 'general anesthesia', 'general endotracheal', 'general endotracheal anesthesia', 'given', 'going', 'good', 'good condition', 'grade', 'graft', 'grasped', 'greater', 'gross', 'guide', 'guidewire', 'ha', 'half', 'hand', 'having', 'head', 'headache', 'heart', 'heart rate', 'heent', 'help', 'hematoma', 'hemostasis', 'hemostasis wa', 'hernia', 'high', 'hip', 'history', 'history patient', 'history present', 'history present illness', 'hole', 'home', 'hospital', 'hour', 'hypertension', 'identified', 'illness', 'image', 'immediately', 'impression', 'improved', 'inch', 'incised', 'incision', 'incision wa', 'include', 'including', 'increased', 'indication', 'indication patient', 'indication procedure', 'infection', 'inferior', 'infiltrated', 'inflated', 'informed', 'informed consent', 'informed consent wa', 'inguinal', 'initial', 'initially', 'injected', 'injection', 'injury', 'inserted', 'insertion', 'inspected', 'instruction', 'instrument', 'intact', 'internal', 'interrupted', 'interrupted vicryl', 'intraoperative', 'intravenous', 'introduced', 'irrigated', 'irrigation', 'iv', 'joint', 'junction', 'just', 'kidney', 'knee', 'knife', 'laboratory', 'laceration', 'laparoscopic', 'large', 'later', 'lateral', 'laterally', 'layer', 'left', 'left lower', 'left upper', 'left ventricular', 'leg', 'length', 'lens', 'lesion', 'level', 'lid', 'lidocaine', 'ligament', 'ligament wa', 'ligated', 'light', 'like', 'likely', 'limit', 'line', 'little', 'liver', 'lobe', 'local', 'long', 'loss', 'loss ml', 'low', 'lower', 'lower extremity', 'lumbar', 'lumen', 'lung', 'lung clear', 'lymph', 'lymph node', 'main', 'make', 'male', 'manner', 'marcaine', 'margin', 'marked', 'mass', 'material', 'medial', 'medially', 'medical', 'medical history', 'medication', 'membrane', 'metatarsal', 'mg', 'mg daily', 'mid', 'middle', 'midline', 'mild', 'minimal', 'minute', 'ml', 'mm', 'mmhg', 'moderate', 'monocryl', 'month', 'morning', 'mother', 'motion', 'motor', 'mouth', 'movement', 'mri', 'mucosa', 'multiple', 'murmur', 'muscle', 'muscle wa', 'nasal', 'nausea', 'near', 'neck', 'need', 'needed', 'needle', 'needle wa', 'negative', 'nerve', 'nerve root', 'neurologic', 'new', 'night', 'node', 'non', 'nontender', 'normal', 'normal limit', 'nose', 'note', 'noted', 'nylon', 'oblique', 'obstruction', 'obtained', 'obtained patient', 'obvious', 'office', 'old', 'old female', 'old male', 'open', 'opened', 'opening', 'operating', 'operating room', 'operating room placed', 'operating table', 'operation', 'operative', 'operative procedure', 'option', 'oral', 'order', 'osteotomy', 'ovary', 'pain', 'palpable', 'partial', 'passed', 'past', 'past medical', 'past medical history', 'patella', 'patent', 'pathology', 'patient ha', 'patient tolerated', 'patient tolerated procedure', 'patient wa', 'patient wa brought', 'patient wa given', 'patient wa placed', 'patient wa prepped', 'patient wa taken', 'patient year', 'patient year old', 'pedicle', 'pelvic', 'pelvis', 'perform', 'performed', 'peritoneum', 'physical', 'physical examination', 'place', 'placed', 'placed supine', 'placed supine position', 'placement', 'plain', 'plan', 'plane', 'plantar', 'plate', 'pleural', 'point', 'pole', 'polyp', 'port', 'portion', 'position', 'positioned', 'positive', 'possible', 'post', 'posterior', 'posteriorly', 'postoperative', 'postoperative diagnosis', 'pound', 'pregnancy', 'preoperative', 'preoperative diagnosis', 'prepped', 'prepped draped', 'prepped draped usual', 'present', 'present illness', 'presented', 'pressure', 'previous', 'previously', 'primary', 'prior', 'problem', 'procedure', 'procedure patient', 'procedure patient wa', 'procedure performed', 'procedure wa', 'proceed', 'process', 'prolene', 'prostate', 'proximal', 'proximally', 'pulmonary', 'pulse', 'quadrant', 'question', 'quite', 'radial', 'range', 'range motion', 'rate', 'ray', 'reapproximated', 'reason', 'received', 'recent', 'recommendation', 'recommended', 'recovery', 'recovery room', 'recovery room stable', 'rectal', 'rectus', 'recurrent', 'reduction', 'reflected', 'reflex', 'region', 'regular', 'regular rate', 'release', 'released', 'remained', 'remaining', 'removal', 'remove', 'removed', 'renal', 'repair', 'repeat', 'report', 'reported', 'resected', 'resection', 'residual', 'respiratory', 'response', 'rest', 'result', 'retracted', 'retractor', 'return', 'returned', 'revealed', 'reveals', 'review', 'reviewed', 'rhythm', 'right', 'right coronary', 'right coronary artery', 'right eye', 'right foot', 'right lower', 'right upper', 'ring', 'risk', 'risk benefit', 'room', 'room placed', 'room placed supine', 'room stable', 'room stable condition', 'root', 'round', 'routine', 'running', 'sac', 'saline', 'satisfactory', 'satisfactory condition', 'saw', 'scalpel', 'scan', 'scissors', 'scope', 'scope wa', 'screw', 'second', 'secondary', 'section', 'secured', 'sedation', 'seen', 'segment', 'seizure', 'sensation', 'sensory', 'sent', 'septum', 'severe', 'sharp', 'sheath', 'sheath wa', 'short', 'shortness', 'shortness breath', 'shoulder', 'showed', 'sided', 'sign', 'significant', 'silk', 'similar', 'single', 'sinus', 'site', 'size', 'skin', 'skin incision', 'skin wa', 'skin wa closed', 'sleep', 'slightly', 'small', 'social', 'social history', 'soft', 'soft tissue', 'solution', 'sound', 'space', 'specimen', 'speculum', 'speech', 'spinal', 'spine', 'sponge', 'stable', 'stable condition', 'stage', 'standard', 'staple', 'started', 'state', 'status', 'status post', 'stenosis', 'stent', 'steri', 'steri strip', 'sterile', 'sterile dressing', 'sterile fashion', 'stitch', 'stomach', 'stone', 'straight', 'strength', 'stress', 'strip', 'structure', 'study', 'subcutaneous', 'subcutaneous tissue', 'subcuticular', 'subsequently', 'suction', 'suctioned', 'suite', 'superficial', 'superior', 'superiorly', 'supine', 'supine position', 'surface', 'surgery', 'surgical', 'suture', 'suture wa', 'sutured', 'swelling', 'symptom', 'syndrome', 'table', 'taken', 'taken operating', 'taken operating room', 'taken recovery', 'taken recovery room', 'taking', 'tear', 'technique', 'temperature', 'temporal', 'tenderness', 'tendon', 'term', 'test', 'testis', 'therapy', 'throat', 'thyroid', 'tibial', 'tied', 'time', 'time wa', 'tip', 'tissue', 'tissue wa', 'today', 'toe', 'tolerated', 'tolerated procedure', 'tolerated procedure wa', 'tonsil', 'total', 'tourniquet', 'tourniquet wa', 'transected', 'transferred', 'transverse', 'treated', 'treatment', 'trocar', 'tube', 'tube wa', 'tumor', 'tunnel', 'turned', 'type', 'ulnar', 'ultrasound', 'unable', 'underlying', 'underwent', 'unit', 'unremarkable', 'upper', 'upper extremity', 'upper lobe', 'ureter', 'ureteral', 'urinary', 'urine', 'use', 'used', 'using', 'using vicryl', 'usual', 'usual fashion', 'usual sterile', 'usual sterile fashion', 'uterine', 'uterus', 'utilized', 'utilizing', 'vaginal', 'valve', 'vascular', 'vein', 'vein wa', 'venous', 'ventricle', 'ventricular', 'vertebral', 'vessel', 'vicryl', 'vicryl suture', 'view', 'vision', 'visit', 'visual', 'visualization', 'visualized', 'vital', 'vital sign', 'vomiting', 'wa able', 'wa achieved', 'wa administered', 'wa admitted', 'wa advanced', 'wa applied', 'wa brought', 'wa brought operating', 'wa carried', 'wa closed', 'wa copiously', 'wa created', 'wa directed', 'wa dissected', 'wa elevated', 'wa evidence', 'wa felt', 'wa given', 'wa grasped', 'wa identified', 'wa incised', 'wa injected', 'wa inserted', 'wa introduced', 'wa irrigated', 'wa left', 'wa normal', 'wa noted', 'wa obtained', 'wa obtained patient', 'wa opened', 'wa passed', 'wa performed', 'wa placed', 'wa prepped', 'wa prepped draped', 'wa removed', 'wa seen', 'wa sent', 'wa taken', 'wa taken operating', 'wa transferred', 'wa turned', 'wa used', 'wa utilized', 'wa visualized', 'wall', 'way', 'weakness', 'week', 'weight', 'went', 'white', 'wire', 'wire wa', 'withdrawn', 'work', 'wound', 'wound wa', 'wrist', 'xylocaine', 'xyz', 'year', 'year old', 'year old female', 'year old male']\n"
          ]
        }
      ]
    },
    {
      "cell_type": "markdown",
      "source": [
        "## Model"
      ],
      "metadata": {
        "id": "zzTfFi-ek7gg"
      }
    },
    {
      "cell_type": "code",
      "source": [
        "from sklearn.decomposition import TruncatedSVD\n",
        "from sklearn.preprocessing import Normalizer\n",
        "from sklearn.model_selection import train_test_split\n",
        "import numpy as np\n",
        "\n",
        "# labels\n",
        "labels = df['medical_specialty'].tolist()\n",
        "\n",
        "# split BEFORE fitting SVD (no leakage)\n",
        "X_train, X_test, y_train, y_test = train_test_split(\n",
        "    tfIdfMat, labels, test_size=0.2, stratify=labels, random_state=1\n",
        ")\n",
        "\n",
        "# choose components: either fixed, or target ~95% variance\n",
        "# Option A: fixed size (simple & robust)\n",
        "svd = TruncatedSVD(n_components=300, random_state=1)\n",
        "svd.fit(X_train)\n",
        "\n",
        "# Optionally see how much variance 300 comps keep:\n",
        "print(\"Variance @300 comps:\", svd.explained_variance_ratio_.sum())\n",
        "\n",
        "# transform\n",
        "X_train_red = svd.transform(X_train)\n",
        "X_test_red  = svd.transform(X_test)\n",
        "\n",
        "# optional: L2-normalize (often good with SVD on text)\n",
        "norm = Normalizer(copy=False)\n",
        "X_train_red = norm.fit_transform(X_train_red)\n",
        "X_test_red  = norm.transform(X_test_red)\n"
      ],
      "metadata": {
        "colab": {
          "base_uri": "https://localhost:8080/"
        },
        "id": "UvN706SIkXKL",
        "outputId": "3bdf7f81-7986-4277-9558-6b0761231de7"
      },
      "execution_count": 25,
      "outputs": [
        {
          "output_type": "stream",
          "name": "stdout",
          "text": [
            "Variance @300 comps: 0.8143894674640085\n"
          ]
        }
      ]
    },
    {
      "cell_type": "code",
      "source": [
        "probe = TruncatedSVD(n_components=min(500, tfIdfMat.shape[1]-1), random_state=1)\n",
        "probe.fit(X_train)\n",
        "cum = np.cumsum(probe.explained_variance_ratio_)\n",
        "k = int(np.searchsorted(cum, 0.95) + 1)\n",
        "svd = TruncatedSVD(n_components=k, random_state=1).fit(X_train)\n",
        "X_train_red = svd.transform(X_train)\n",
        "X_test_red  = svd.transform(X_test)\n",
        "X_train_red = Normalizer(copy=False).fit_transform(X_train_red)\n",
        "X_test_red  = Normalizer(copy=False).transform(X_test_red)\n",
        "print(f\"Picked k={k}, variance={svd.explained_variance_ratio_.sum():.3f}\")\n"
      ],
      "metadata": {
        "colab": {
          "base_uri": "https://localhost:8080/"
        },
        "id": "91GKuQgAkyNk",
        "outputId": "c79b81d8-3080-4cf5-ae83-d16a8a64692e"
      },
      "execution_count": 26,
      "outputs": [
        {
          "output_type": "stream",
          "name": "stdout",
          "text": [
            "Picked k=501, variance=0.933\n"
          ]
        }
      ]
    },
    {
      "cell_type": "code",
      "source": [
        "from sklearn.svm import LinearSVC\n",
        "from sklearn.linear_model import LogisticRegression\n",
        "from sklearn.model_selection import GridSearchCV, StratifiedKFold\n",
        "from sklearn.metrics import accuracy_score, f1_score, classification_report, ConfusionMatrixDisplay\n",
        "import matplotlib.pyplot as plt\n",
        "import numpy as np\n",
        "\n",
        "# Linear SVM (with quick C search)\n",
        "svm = LinearSVC(class_weight='balanced', random_state=1)\n",
        "param_grid = {\"C\": [0.1, 0.3, 1.0, 3.0]}\n",
        "cv = StratifiedKFold(n_splits=5, shuffle=True, random_state=1)\n",
        "svm_grid = GridSearchCV(svm, param_grid, scoring='f1_macro', cv=cv, n_jobs=-1, verbose=0)\n",
        "svm_grid.fit(X_train_red, y_train)\n",
        "\n",
        "best_svm = svm_grid.best_estimator_\n",
        "print(\"Best SVM C:\", svm_grid.best_params_[\"C\"])\n",
        "\n",
        "# Logistic Regression (baseline)\n",
        "logreg = LogisticRegression(\n",
        "    max_iter=2000, class_weight='balanced', solver='lbfgs', n_jobs=-1\n",
        ")\n",
        "logreg.fit(X_train_red, y_train)\n"
      ],
      "metadata": {
        "colab": {
          "base_uri": "https://localhost:8080/",
          "height": 97
        },
        "id": "lsTkwN9-k1u-",
        "outputId": "a4f86402-bf6f-4773-a8af-455cd13b32ff"
      },
      "execution_count": 27,
      "outputs": [
        {
          "output_type": "stream",
          "name": "stdout",
          "text": [
            "Best SVM C: 0.1\n"
          ]
        },
        {
          "output_type": "execute_result",
          "data": {
            "text/plain": [
              "LogisticRegression(class_weight='balanced', max_iter=2000, n_jobs=-1)"
            ],
            "text/html": [
              "<style>#sk-container-id-1 {\n",
              "  /* Definition of color scheme common for light and dark mode */\n",
              "  --sklearn-color-text: #000;\n",
              "  --sklearn-color-text-muted: #666;\n",
              "  --sklearn-color-line: gray;\n",
              "  /* Definition of color scheme for unfitted estimators */\n",
              "  --sklearn-color-unfitted-level-0: #fff5e6;\n",
              "  --sklearn-color-unfitted-level-1: #f6e4d2;\n",
              "  --sklearn-color-unfitted-level-2: #ffe0b3;\n",
              "  --sklearn-color-unfitted-level-3: chocolate;\n",
              "  /* Definition of color scheme for fitted estimators */\n",
              "  --sklearn-color-fitted-level-0: #f0f8ff;\n",
              "  --sklearn-color-fitted-level-1: #d4ebff;\n",
              "  --sklearn-color-fitted-level-2: #b3dbfd;\n",
              "  --sklearn-color-fitted-level-3: cornflowerblue;\n",
              "\n",
              "  /* Specific color for light theme */\n",
              "  --sklearn-color-text-on-default-background: var(--sg-text-color, var(--theme-code-foreground, var(--jp-content-font-color1, black)));\n",
              "  --sklearn-color-background: var(--sg-background-color, var(--theme-background, var(--jp-layout-color0, white)));\n",
              "  --sklearn-color-border-box: var(--sg-text-color, var(--theme-code-foreground, var(--jp-content-font-color1, black)));\n",
              "  --sklearn-color-icon: #696969;\n",
              "\n",
              "  @media (prefers-color-scheme: dark) {\n",
              "    /* Redefinition of color scheme for dark theme */\n",
              "    --sklearn-color-text-on-default-background: var(--sg-text-color, var(--theme-code-foreground, var(--jp-content-font-color1, white)));\n",
              "    --sklearn-color-background: var(--sg-background-color, var(--theme-background, var(--jp-layout-color0, #111)));\n",
              "    --sklearn-color-border-box: var(--sg-text-color, var(--theme-code-foreground, var(--jp-content-font-color1, white)));\n",
              "    --sklearn-color-icon: #878787;\n",
              "  }\n",
              "}\n",
              "\n",
              "#sk-container-id-1 {\n",
              "  color: var(--sklearn-color-text);\n",
              "}\n",
              "\n",
              "#sk-container-id-1 pre {\n",
              "  padding: 0;\n",
              "}\n",
              "\n",
              "#sk-container-id-1 input.sk-hidden--visually {\n",
              "  border: 0;\n",
              "  clip: rect(1px 1px 1px 1px);\n",
              "  clip: rect(1px, 1px, 1px, 1px);\n",
              "  height: 1px;\n",
              "  margin: -1px;\n",
              "  overflow: hidden;\n",
              "  padding: 0;\n",
              "  position: absolute;\n",
              "  width: 1px;\n",
              "}\n",
              "\n",
              "#sk-container-id-1 div.sk-dashed-wrapped {\n",
              "  border: 1px dashed var(--sklearn-color-line);\n",
              "  margin: 0 0.4em 0.5em 0.4em;\n",
              "  box-sizing: border-box;\n",
              "  padding-bottom: 0.4em;\n",
              "  background-color: var(--sklearn-color-background);\n",
              "}\n",
              "\n",
              "#sk-container-id-1 div.sk-container {\n",
              "  /* jupyter's `normalize.less` sets `[hidden] { display: none; }`\n",
              "     but bootstrap.min.css set `[hidden] { display: none !important; }`\n",
              "     so we also need the `!important` here to be able to override the\n",
              "     default hidden behavior on the sphinx rendered scikit-learn.org.\n",
              "     See: https://github.com/scikit-learn/scikit-learn/issues/21755 */\n",
              "  display: inline-block !important;\n",
              "  position: relative;\n",
              "}\n",
              "\n",
              "#sk-container-id-1 div.sk-text-repr-fallback {\n",
              "  display: none;\n",
              "}\n",
              "\n",
              "div.sk-parallel-item,\n",
              "div.sk-serial,\n",
              "div.sk-item {\n",
              "  /* draw centered vertical line to link estimators */\n",
              "  background-image: linear-gradient(var(--sklearn-color-text-on-default-background), var(--sklearn-color-text-on-default-background));\n",
              "  background-size: 2px 100%;\n",
              "  background-repeat: no-repeat;\n",
              "  background-position: center center;\n",
              "}\n",
              "\n",
              "/* Parallel-specific style estimator block */\n",
              "\n",
              "#sk-container-id-1 div.sk-parallel-item::after {\n",
              "  content: \"\";\n",
              "  width: 100%;\n",
              "  border-bottom: 2px solid var(--sklearn-color-text-on-default-background);\n",
              "  flex-grow: 1;\n",
              "}\n",
              "\n",
              "#sk-container-id-1 div.sk-parallel {\n",
              "  display: flex;\n",
              "  align-items: stretch;\n",
              "  justify-content: center;\n",
              "  background-color: var(--sklearn-color-background);\n",
              "  position: relative;\n",
              "}\n",
              "\n",
              "#sk-container-id-1 div.sk-parallel-item {\n",
              "  display: flex;\n",
              "  flex-direction: column;\n",
              "}\n",
              "\n",
              "#sk-container-id-1 div.sk-parallel-item:first-child::after {\n",
              "  align-self: flex-end;\n",
              "  width: 50%;\n",
              "}\n",
              "\n",
              "#sk-container-id-1 div.sk-parallel-item:last-child::after {\n",
              "  align-self: flex-start;\n",
              "  width: 50%;\n",
              "}\n",
              "\n",
              "#sk-container-id-1 div.sk-parallel-item:only-child::after {\n",
              "  width: 0;\n",
              "}\n",
              "\n",
              "/* Serial-specific style estimator block */\n",
              "\n",
              "#sk-container-id-1 div.sk-serial {\n",
              "  display: flex;\n",
              "  flex-direction: column;\n",
              "  align-items: center;\n",
              "  background-color: var(--sklearn-color-background);\n",
              "  padding-right: 1em;\n",
              "  padding-left: 1em;\n",
              "}\n",
              "\n",
              "\n",
              "/* Toggleable style: style used for estimator/Pipeline/ColumnTransformer box that is\n",
              "clickable and can be expanded/collapsed.\n",
              "- Pipeline and ColumnTransformer use this feature and define the default style\n",
              "- Estimators will overwrite some part of the style using the `sk-estimator` class\n",
              "*/\n",
              "\n",
              "/* Pipeline and ColumnTransformer style (default) */\n",
              "\n",
              "#sk-container-id-1 div.sk-toggleable {\n",
              "  /* Default theme specific background. It is overwritten whether we have a\n",
              "  specific estimator or a Pipeline/ColumnTransformer */\n",
              "  background-color: var(--sklearn-color-background);\n",
              "}\n",
              "\n",
              "/* Toggleable label */\n",
              "#sk-container-id-1 label.sk-toggleable__label {\n",
              "  cursor: pointer;\n",
              "  display: flex;\n",
              "  width: 100%;\n",
              "  margin-bottom: 0;\n",
              "  padding: 0.5em;\n",
              "  box-sizing: border-box;\n",
              "  text-align: center;\n",
              "  align-items: start;\n",
              "  justify-content: space-between;\n",
              "  gap: 0.5em;\n",
              "}\n",
              "\n",
              "#sk-container-id-1 label.sk-toggleable__label .caption {\n",
              "  font-size: 0.6rem;\n",
              "  font-weight: lighter;\n",
              "  color: var(--sklearn-color-text-muted);\n",
              "}\n",
              "\n",
              "#sk-container-id-1 label.sk-toggleable__label-arrow:before {\n",
              "  /* Arrow on the left of the label */\n",
              "  content: \"▸\";\n",
              "  float: left;\n",
              "  margin-right: 0.25em;\n",
              "  color: var(--sklearn-color-icon);\n",
              "}\n",
              "\n",
              "#sk-container-id-1 label.sk-toggleable__label-arrow:hover:before {\n",
              "  color: var(--sklearn-color-text);\n",
              "}\n",
              "\n",
              "/* Toggleable content - dropdown */\n",
              "\n",
              "#sk-container-id-1 div.sk-toggleable__content {\n",
              "  max-height: 0;\n",
              "  max-width: 0;\n",
              "  overflow: hidden;\n",
              "  text-align: left;\n",
              "  /* unfitted */\n",
              "  background-color: var(--sklearn-color-unfitted-level-0);\n",
              "}\n",
              "\n",
              "#sk-container-id-1 div.sk-toggleable__content.fitted {\n",
              "  /* fitted */\n",
              "  background-color: var(--sklearn-color-fitted-level-0);\n",
              "}\n",
              "\n",
              "#sk-container-id-1 div.sk-toggleable__content pre {\n",
              "  margin: 0.2em;\n",
              "  border-radius: 0.25em;\n",
              "  color: var(--sklearn-color-text);\n",
              "  /* unfitted */\n",
              "  background-color: var(--sklearn-color-unfitted-level-0);\n",
              "}\n",
              "\n",
              "#sk-container-id-1 div.sk-toggleable__content.fitted pre {\n",
              "  /* unfitted */\n",
              "  background-color: var(--sklearn-color-fitted-level-0);\n",
              "}\n",
              "\n",
              "#sk-container-id-1 input.sk-toggleable__control:checked~div.sk-toggleable__content {\n",
              "  /* Expand drop-down */\n",
              "  max-height: 200px;\n",
              "  max-width: 100%;\n",
              "  overflow: auto;\n",
              "}\n",
              "\n",
              "#sk-container-id-1 input.sk-toggleable__control:checked~label.sk-toggleable__label-arrow:before {\n",
              "  content: \"▾\";\n",
              "}\n",
              "\n",
              "/* Pipeline/ColumnTransformer-specific style */\n",
              "\n",
              "#sk-container-id-1 div.sk-label input.sk-toggleable__control:checked~label.sk-toggleable__label {\n",
              "  color: var(--sklearn-color-text);\n",
              "  background-color: var(--sklearn-color-unfitted-level-2);\n",
              "}\n",
              "\n",
              "#sk-container-id-1 div.sk-label.fitted input.sk-toggleable__control:checked~label.sk-toggleable__label {\n",
              "  background-color: var(--sklearn-color-fitted-level-2);\n",
              "}\n",
              "\n",
              "/* Estimator-specific style */\n",
              "\n",
              "/* Colorize estimator box */\n",
              "#sk-container-id-1 div.sk-estimator input.sk-toggleable__control:checked~label.sk-toggleable__label {\n",
              "  /* unfitted */\n",
              "  background-color: var(--sklearn-color-unfitted-level-2);\n",
              "}\n",
              "\n",
              "#sk-container-id-1 div.sk-estimator.fitted input.sk-toggleable__control:checked~label.sk-toggleable__label {\n",
              "  /* fitted */\n",
              "  background-color: var(--sklearn-color-fitted-level-2);\n",
              "}\n",
              "\n",
              "#sk-container-id-1 div.sk-label label.sk-toggleable__label,\n",
              "#sk-container-id-1 div.sk-label label {\n",
              "  /* The background is the default theme color */\n",
              "  color: var(--sklearn-color-text-on-default-background);\n",
              "}\n",
              "\n",
              "/* On hover, darken the color of the background */\n",
              "#sk-container-id-1 div.sk-label:hover label.sk-toggleable__label {\n",
              "  color: var(--sklearn-color-text);\n",
              "  background-color: var(--sklearn-color-unfitted-level-2);\n",
              "}\n",
              "\n",
              "/* Label box, darken color on hover, fitted */\n",
              "#sk-container-id-1 div.sk-label.fitted:hover label.sk-toggleable__label.fitted {\n",
              "  color: var(--sklearn-color-text);\n",
              "  background-color: var(--sklearn-color-fitted-level-2);\n",
              "}\n",
              "\n",
              "/* Estimator label */\n",
              "\n",
              "#sk-container-id-1 div.sk-label label {\n",
              "  font-family: monospace;\n",
              "  font-weight: bold;\n",
              "  display: inline-block;\n",
              "  line-height: 1.2em;\n",
              "}\n",
              "\n",
              "#sk-container-id-1 div.sk-label-container {\n",
              "  text-align: center;\n",
              "}\n",
              "\n",
              "/* Estimator-specific */\n",
              "#sk-container-id-1 div.sk-estimator {\n",
              "  font-family: monospace;\n",
              "  border: 1px dotted var(--sklearn-color-border-box);\n",
              "  border-radius: 0.25em;\n",
              "  box-sizing: border-box;\n",
              "  margin-bottom: 0.5em;\n",
              "  /* unfitted */\n",
              "  background-color: var(--sklearn-color-unfitted-level-0);\n",
              "}\n",
              "\n",
              "#sk-container-id-1 div.sk-estimator.fitted {\n",
              "  /* fitted */\n",
              "  background-color: var(--sklearn-color-fitted-level-0);\n",
              "}\n",
              "\n",
              "/* on hover */\n",
              "#sk-container-id-1 div.sk-estimator:hover {\n",
              "  /* unfitted */\n",
              "  background-color: var(--sklearn-color-unfitted-level-2);\n",
              "}\n",
              "\n",
              "#sk-container-id-1 div.sk-estimator.fitted:hover {\n",
              "  /* fitted */\n",
              "  background-color: var(--sklearn-color-fitted-level-2);\n",
              "}\n",
              "\n",
              "/* Specification for estimator info (e.g. \"i\" and \"?\") */\n",
              "\n",
              "/* Common style for \"i\" and \"?\" */\n",
              "\n",
              ".sk-estimator-doc-link,\n",
              "a:link.sk-estimator-doc-link,\n",
              "a:visited.sk-estimator-doc-link {\n",
              "  float: right;\n",
              "  font-size: smaller;\n",
              "  line-height: 1em;\n",
              "  font-family: monospace;\n",
              "  background-color: var(--sklearn-color-background);\n",
              "  border-radius: 1em;\n",
              "  height: 1em;\n",
              "  width: 1em;\n",
              "  text-decoration: none !important;\n",
              "  margin-left: 0.5em;\n",
              "  text-align: center;\n",
              "  /* unfitted */\n",
              "  border: var(--sklearn-color-unfitted-level-1) 1pt solid;\n",
              "  color: var(--sklearn-color-unfitted-level-1);\n",
              "}\n",
              "\n",
              ".sk-estimator-doc-link.fitted,\n",
              "a:link.sk-estimator-doc-link.fitted,\n",
              "a:visited.sk-estimator-doc-link.fitted {\n",
              "  /* fitted */\n",
              "  border: var(--sklearn-color-fitted-level-1) 1pt solid;\n",
              "  color: var(--sklearn-color-fitted-level-1);\n",
              "}\n",
              "\n",
              "/* On hover */\n",
              "div.sk-estimator:hover .sk-estimator-doc-link:hover,\n",
              ".sk-estimator-doc-link:hover,\n",
              "div.sk-label-container:hover .sk-estimator-doc-link:hover,\n",
              ".sk-estimator-doc-link:hover {\n",
              "  /* unfitted */\n",
              "  background-color: var(--sklearn-color-unfitted-level-3);\n",
              "  color: var(--sklearn-color-background);\n",
              "  text-decoration: none;\n",
              "}\n",
              "\n",
              "div.sk-estimator.fitted:hover .sk-estimator-doc-link.fitted:hover,\n",
              ".sk-estimator-doc-link.fitted:hover,\n",
              "div.sk-label-container:hover .sk-estimator-doc-link.fitted:hover,\n",
              ".sk-estimator-doc-link.fitted:hover {\n",
              "  /* fitted */\n",
              "  background-color: var(--sklearn-color-fitted-level-3);\n",
              "  color: var(--sklearn-color-background);\n",
              "  text-decoration: none;\n",
              "}\n",
              "\n",
              "/* Span, style for the box shown on hovering the info icon */\n",
              ".sk-estimator-doc-link span {\n",
              "  display: none;\n",
              "  z-index: 9999;\n",
              "  position: relative;\n",
              "  font-weight: normal;\n",
              "  right: .2ex;\n",
              "  padding: .5ex;\n",
              "  margin: .5ex;\n",
              "  width: min-content;\n",
              "  min-width: 20ex;\n",
              "  max-width: 50ex;\n",
              "  color: var(--sklearn-color-text);\n",
              "  box-shadow: 2pt 2pt 4pt #999;\n",
              "  /* unfitted */\n",
              "  background: var(--sklearn-color-unfitted-level-0);\n",
              "  border: .5pt solid var(--sklearn-color-unfitted-level-3);\n",
              "}\n",
              "\n",
              ".sk-estimator-doc-link.fitted span {\n",
              "  /* fitted */\n",
              "  background: var(--sklearn-color-fitted-level-0);\n",
              "  border: var(--sklearn-color-fitted-level-3);\n",
              "}\n",
              "\n",
              ".sk-estimator-doc-link:hover span {\n",
              "  display: block;\n",
              "}\n",
              "\n",
              "/* \"?\"-specific style due to the `<a>` HTML tag */\n",
              "\n",
              "#sk-container-id-1 a.estimator_doc_link {\n",
              "  float: right;\n",
              "  font-size: 1rem;\n",
              "  line-height: 1em;\n",
              "  font-family: monospace;\n",
              "  background-color: var(--sklearn-color-background);\n",
              "  border-radius: 1rem;\n",
              "  height: 1rem;\n",
              "  width: 1rem;\n",
              "  text-decoration: none;\n",
              "  /* unfitted */\n",
              "  color: var(--sklearn-color-unfitted-level-1);\n",
              "  border: var(--sklearn-color-unfitted-level-1) 1pt solid;\n",
              "}\n",
              "\n",
              "#sk-container-id-1 a.estimator_doc_link.fitted {\n",
              "  /* fitted */\n",
              "  border: var(--sklearn-color-fitted-level-1) 1pt solid;\n",
              "  color: var(--sklearn-color-fitted-level-1);\n",
              "}\n",
              "\n",
              "/* On hover */\n",
              "#sk-container-id-1 a.estimator_doc_link:hover {\n",
              "  /* unfitted */\n",
              "  background-color: var(--sklearn-color-unfitted-level-3);\n",
              "  color: var(--sklearn-color-background);\n",
              "  text-decoration: none;\n",
              "}\n",
              "\n",
              "#sk-container-id-1 a.estimator_doc_link.fitted:hover {\n",
              "  /* fitted */\n",
              "  background-color: var(--sklearn-color-fitted-level-3);\n",
              "}\n",
              "</style><div id=\"sk-container-id-1\" class=\"sk-top-container\"><div class=\"sk-text-repr-fallback\"><pre>LogisticRegression(class_weight=&#x27;balanced&#x27;, max_iter=2000, n_jobs=-1)</pre><b>In a Jupyter environment, please rerun this cell to show the HTML representation or trust the notebook. <br />On GitHub, the HTML representation is unable to render, please try loading this page with nbviewer.org.</b></div><div class=\"sk-container\" hidden><div class=\"sk-item\"><div class=\"sk-estimator fitted sk-toggleable\"><input class=\"sk-toggleable__control sk-hidden--visually\" id=\"sk-estimator-id-1\" type=\"checkbox\" checked><label for=\"sk-estimator-id-1\" class=\"sk-toggleable__label fitted sk-toggleable__label-arrow\"><div><div>LogisticRegression</div></div><div><a class=\"sk-estimator-doc-link fitted\" rel=\"noreferrer\" target=\"_blank\" href=\"https://scikit-learn.org/1.6/modules/generated/sklearn.linear_model.LogisticRegression.html\">?<span>Documentation for LogisticRegression</span></a><span class=\"sk-estimator-doc-link fitted\">i<span>Fitted</span></span></div></label><div class=\"sk-toggleable__content fitted\"><pre>LogisticRegression(class_weight=&#x27;balanced&#x27;, max_iter=2000, n_jobs=-1)</pre></div> </div></div></div></div>"
            ]
          },
          "metadata": {},
          "execution_count": 27
        }
      ]
    },
    {
      "cell_type": "code",
      "source": [
        "# SVM\n",
        "y_pred_svm = best_svm.predict(X_test_red)\n",
        "acc_svm = accuracy_score(y_test, y_pred_svm)\n",
        "f1m_svm = f1_score(y_test, y_pred_svm, average='macro')\n",
        "f1w_svm = f1_score(y_test, y_pred_svm, average='weighted')\n",
        "print(f\"[SVM] Acc={acc_svm:.4f} | F1-macro={f1m_svm:.4f} | F1-weighted={f1w_svm:.4f}\")\n",
        "print(\"\\n[SVM] Per-class report:\\n\", classification_report(y_test, y_pred_svm))\n",
        "\n",
        "# Logistic Regression\n",
        "y_pred_lr = logreg.predict(X_test_red)\n",
        "acc_lr = accuracy_score(y_test, y_pred_lr)\n",
        "f1m_lr = f1_score(y_test, y_pred_lr, average='macro')\n",
        "f1w_lr = f1_score(y_test, y_pred_lr, average='weighted')\n",
        "print(f\"[LogReg] Acc={acc_lr:.4f} | F1-macro={f1m_lr:.4f} | F1-weighted={f1w_lr:.4f}\")\n",
        "print(\"\\n[LogReg] Per-class report:\\n\", classification_report(y_test, y_pred_lr))\n"
      ],
      "metadata": {
        "colab": {
          "base_uri": "https://localhost:8080/"
        },
        "id": "UxYAi8CblBYW",
        "outputId": "65116f41-d579-4f53-9c6d-86503451d1ca"
      },
      "execution_count": 28,
      "outputs": [
        {
          "output_type": "stream",
          "name": "stdout",
          "text": [
            "[SVM] Acc=0.4054 | F1-macro=0.4444 | F1-weighted=0.3548\n",
            "\n",
            "[SVM] Per-class report:\n",
            "                                 precision    recall  f1-score   support\n",
            "\n",
            "    Cardiovascular / Pulmonary       0.49      0.64      0.55        56\n",
            "    Consult - History and Phy.       0.37      0.32      0.34        47\n",
            "             Discharge Summary       0.41      0.87      0.55        15\n",
            "          ENT - Otolaryngology       0.47      0.82      0.60        17\n",
            "              Gastroenterology       0.49      0.56      0.52        39\n",
            "              General Medicine       0.36      0.28      0.31        29\n",
            "         Hematology - Oncology       0.21      0.42      0.28        12\n",
            "                    Nephrology       0.33      0.69      0.45        13\n",
            "                     Neurology       0.36      0.50      0.42        34\n",
            "                  Neurosurgery       0.30      0.81      0.44        16\n",
            "       Obstetrics / Gynecology       0.39      0.73      0.51        26\n",
            "                 Ophthalmology       0.41      0.88      0.56        16\n",
            "                    Orthopedic       0.42      0.49      0.45        61\n",
            "               Pain Management       0.59      0.83      0.69        12\n",
            "                     Radiology       0.28      0.16      0.20        50\n",
            " SOAP / Chart / Progress Notes       0.33      0.54      0.41        28\n",
            "                       Surgery       0.59      0.08      0.14       204\n",
            "                       Urology       0.46      0.75      0.57        28\n",
            "\n",
            "                      accuracy                           0.41       703\n",
            "                     macro avg       0.40      0.58      0.44       703\n",
            "                  weighted avg       0.45      0.41      0.35       703\n",
            "\n",
            "[LogReg] Acc=0.4068 | F1-macro=0.4432 | F1-weighted=0.3587\n",
            "\n",
            "[LogReg] Per-class report:\n",
            "                                 precision    recall  f1-score   support\n",
            "\n",
            "    Cardiovascular / Pulmonary       0.49      0.68      0.57        56\n",
            "    Consult - History and Phy.       0.34      0.30      0.32        47\n",
            "             Discharge Summary       0.36      0.60      0.45        15\n",
            "          ENT - Otolaryngology       0.46      0.76      0.58        17\n",
            "              Gastroenterology       0.51      0.64      0.57        39\n",
            "              General Medicine       0.33      0.31      0.32        29\n",
            "         Hematology - Oncology       0.19      0.42      0.26        12\n",
            "                    Nephrology       0.41      0.85      0.55        13\n",
            "                     Neurology       0.36      0.47      0.41        34\n",
            "                  Neurosurgery       0.33      0.81      0.46        16\n",
            "       Obstetrics / Gynecology       0.39      0.73      0.51        26\n",
            "                 Ophthalmology       0.41      0.81      0.54        16\n",
            "                    Orthopedic       0.41      0.49      0.44        61\n",
            "               Pain Management       0.59      0.83      0.69        12\n",
            "                     Radiology       0.30      0.16      0.21        50\n",
            " SOAP / Chart / Progress Notes       0.33      0.50      0.40        28\n",
            "                       Surgery       0.67      0.09      0.16       204\n",
            "                       Urology       0.43      0.75      0.55        28\n",
            "\n",
            "                      accuracy                           0.41       703\n",
            "                     macro avg       0.40      0.57      0.44       703\n",
            "                  weighted avg       0.47      0.41      0.36       703\n",
            "\n"
          ]
        }
      ]
    },
    {
      "cell_type": "markdown",
      "source": [
        "## Results"
      ],
      "metadata": {
        "id": "gVJDA6oMlGuX"
      }
    },
    {
      "cell_type": "code",
      "source": [
        "# pick the better of SVM vs LogReg by macro-F1\n",
        "use_svm = f1m_svm >= f1m_lr\n",
        "y_pred = y_pred_svm if use_svm else y_pred_lr\n",
        "title = \"LinearSVC\" if use_svm else \"LogReg\"\n",
        "\n",
        "import matplotlib.pyplot as plt\n",
        "from sklearn.metrics import ConfusionMatrixDisplay, confusion_matrix\n",
        "import numpy as np\n",
        "\n",
        "# Create the confusion matrix\n",
        "cm = confusion_matrix(y_test, y_pred)\n",
        "labels = np.unique(y_test)\n",
        "\n",
        "# Plot with better aesthetics\n",
        "fig, ax = plt.subplots(figsize=(10, 10))  # Bigger size\n",
        "disp = ConfusionMatrixDisplay(confusion_matrix=cm, display_labels=labels)\n",
        "disp.plot(\n",
        "    cmap=\"plasma\",          # color map (try: 'Blues', 'viridis', 'magma', etc.)\n",
        "    xticks_rotation=90,\n",
        "    ax=ax,\n",
        "    colorbar=True\n",
        ")\n",
        "\n",
        "# Adjust layout\n",
        "plt.title(\"Confusion Matrix — LinearSVC (Better View)\", fontsize=14)\n",
        "plt.xlabel(\"Predicted label\", fontsize=12)\n",
        "plt.ylabel(\"True label\", fontsize=12)\n",
        "plt.xticks(fontsize=9)\n",
        "plt.yticks(fontsize=9)\n",
        "plt.tight_layout()\n",
        "plt.show()\n",
        "\n"
      ],
      "metadata": {
        "colab": {
          "base_uri": "https://localhost:8080/",
          "height": 969
        },
        "id": "Qu2EJVBRlC_0",
        "outputId": "fdb7fe3c-99ad-4982-fd9c-5144bf428ba5"
      },
      "execution_count": 30,
      "outputs": [
        {
          "output_type": "display_data",
          "data": {
            "text/plain": [
              "<Figure size 1000x1000 with 2 Axes>"
            ],
            "image/png": "[encoded data removed]"
          },
          "metadata": {}
        }
      ]
    },
    {
      "cell_type": "code",
      "source": [],
      "metadata": {
        "id": "kcTzswuYlE9w"
      },
      "execution_count": null,
      "outputs": []
    }
  ]
}