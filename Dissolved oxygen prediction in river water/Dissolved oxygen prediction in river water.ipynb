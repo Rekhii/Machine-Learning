{
  "metadata": {
    "kernelspec": {
      "language": "python",
      "display_name": "Python 3",
      "name": "python3"
    },
    "language_info": {
      "name": "python",
      "version": "3.11.13",
      "mimetype": "text/x-python",
      "codemirror_mode": {
        "name": "ipython",
        "version": 3
      },
      "pygments_lexer": "ipython3",
      "nbconvert_exporter": "python",
      "file_extension": ".py"
    },
    "kaggle": {
      "accelerator": "none",
      "dataSources": [
        {
          "sourceId": 799874,
          "sourceType": "datasetVersion",
          "datasetId": 418634
        }
      ],
      "dockerImageVersionId": 31089,
      "isInternetEnabled": true,
      "language": "python",
      "sourceType": "notebook",
      "isGpuEnabled": false
    },
    "colab": {
      "provenance": []
    }
  },
  "nbformat_minor": 0,
  "nbformat": 4,
  "cells": [
    {
      "cell_type": "markdown",
      "source": [
        "# About Dataset\n",
        "\n",
        "link https://www.kaggle.com/datasets/vbmokin/dissolved-oxygen-prediction-in-river-water\n",
        "Content\n",
        "\n",
        "\n",
        "This dataset has data of the 5 indicators of river water quality from 8 consecutive stations of the state water monitoring system. It's should predict the value in the eighth station by the first seven stations. The numbering of stations in the dataset is done from the target station upstream, ie closest to it - first, upstream - second, etc.\n",
        "\n",
        "Data are average monthly. The number of observations on stations is different (from 4 to about 20 years).\n",
        "\n",
        "Training and test data are chosen so that the percentage of non-NA values on stations with long and short series data is approximately"
      ],
      "metadata": {
        "id": "X6l-RKDKu35t"
      }
    },
    {
      "cell_type": "code",
      "source": [
        "# This Python 3 environment comes with many helpful analytics libraries installed\n",
        "# It is defined by the kaggle/python Docker image: https://github.com/kaggle/docker-python\n",
        "# For example, here's several helpful packages to load\n",
        "\n",
        "import numpy as np # linear algebra\n",
        "import pandas as pd # data processing, CSV file I/O (e.g. pd.read_csv)\n",
        "\n",
        "# Input data files are available in the read-only \"../input/\" directory\n",
        "# For example, running this (by clicking run or pressing Shift+Enter) will list all files under the input directory\n",
        "\n",
        "import os\n",
        "for dirname, _, filenames in os.walk('/kaggle/input'):\n",
        "    for filename in filenames:\n",
        "        print(os.path.join(dirname, filename))\n",
        "\n",
        "# You can write up to 20GB to the current directory (/kaggle/working/) that gets preserved as output when you create a version using \"Save & Run All\"\n",
        "# You can also write temporary files to /kaggle/temp/, but they won't be saved outside of the current session"
      ],
      "metadata": {
        "_uuid": "8f2839f25d086af736a60e9eeb907d3b93b6e0e5",
        "_cell_guid": "b1076dfc-b9ad-4769-8c92-a6c4dae69d19",
        "trusted": true,
        "execution": {
          "iopub.status.busy": "2025-09-09T13:18:14.769217Z",
          "iopub.execute_input": "2025-09-09T13:18:14.769645Z",
          "iopub.status.idle": "2025-09-09T13:18:17.378547Z",
          "shell.execute_reply.started": "2025-09-09T13:18:14.769610Z",
          "shell.execute_reply": "2025-09-09T13:18:17.377530Z"
        },
        "id": "3yd2kHuvuzvW",
        "outputId": "c5aa9ddf-1aa7-4821-9a75-74803321620d"
      },
      "outputs": [
        {
          "name": "stdout",
          "text": "/kaggle/input/dissolved-oxygen-prediction-in-river-water/train.csv\n/kaggle/input/dissolved-oxygen-prediction-in-river-water/test.csv\n",
          "output_type": "stream"
        }
      ],
      "execution_count": null
    },
    {
      "cell_type": "raw",
      "source": [],
      "metadata": {
        "id": "lSAuJTT7uzvY"
      }
    },
    {
      "cell_type": "markdown",
      "source": [
        "#imports"
      ],
      "metadata": {
        "id": "Vj9kZ0MNuzvY"
      }
    },
    {
      "cell_type": "code",
      "source": [
        "import numpy as np\n",
        "import pandas as pd\n",
        "from sklearn.preprocessing import StandardScaler\n",
        "from sklearn.model_selection import train_test_split\n",
        "from sklearn.linear_model import LinearRegression, LogisticRegression"
      ],
      "metadata": {
        "trusted": true,
        "execution": {
          "iopub.status.busy": "2025-09-09T13:23:08.922582Z",
          "iopub.execute_input": "2025-09-09T13:23:08.922903Z",
          "iopub.status.idle": "2025-09-09T13:23:08.928970Z",
          "shell.execute_reply.started": "2025-09-09T13:23:08.922880Z",
          "shell.execute_reply": "2025-09-09T13:23:08.927369Z"
        },
        "id": "G3tQBheLuzvY"
      },
      "outputs": [],
      "execution_count": null
    },
    {
      "cell_type": "markdown",
      "source": [
        "#load the data"
      ],
      "metadata": {
        "id": "36iQdJAeuzvZ"
      }
    },
    {
      "cell_type": "code",
      "source": [
        "df = pd.read_csv(\"/kaggle/input/dissolved-oxygen-prediction-in-river-water/train.csv\")"
      ],
      "metadata": {
        "trusted": true,
        "execution": {
          "iopub.status.busy": "2025-09-09T13:24:12.464802Z",
          "iopub.execute_input": "2025-09-09T13:24:12.465177Z",
          "iopub.status.idle": "2025-09-09T13:24:12.496155Z",
          "shell.execute_reply.started": "2025-09-09T13:24:12.465140Z",
          "shell.execute_reply": "2025-09-09T13:24:12.495306Z"
        },
        "id": "EcYo4vq2uzvZ"
      },
      "outputs": [],
      "execution_count": null
    },
    {
      "cell_type": "markdown",
      "source": [
        "#Explore and preprocessing"
      ],
      "metadata": {
        "id": "UsBnBSd_uzvZ"
      }
    },
    {
      "cell_type": "code",
      "source": [
        "df.head()"
      ],
      "metadata": {
        "trusted": true,
        "execution": {
          "iopub.status.busy": "2025-09-09T13:24:17.741966Z",
          "iopub.execute_input": "2025-09-09T13:24:17.742513Z",
          "iopub.status.idle": "2025-09-09T13:24:17.789323Z",
          "shell.execute_reply.started": "2025-09-09T13:24:17.742487Z",
          "shell.execute_reply": "2025-09-09T13:24:17.788389Z"
        },
        "id": "V3lhjk6UuzvZ",
        "outputId": "82e941ea-8421-4fdb-91d9-a034547c720a"
      },
      "outputs": [
        {
          "name": "stderr",
          "text": "/usr/local/lib/python3.11/dist-packages/pandas/io/formats/format.py:1458: RuntimeWarning: invalid value encountered in greater\n  has_large_values = (abs_vals > 1e6).any()\n/usr/local/lib/python3.11/dist-packages/pandas/io/formats/format.py:1459: RuntimeWarning: invalid value encountered in less\n  has_small_values = ((abs_vals < 10 ** (-self.digits)) & (abs_vals > 0)).any()\n/usr/local/lib/python3.11/dist-packages/pandas/io/formats/format.py:1459: RuntimeWarning: invalid value encountered in greater\n  has_small_values = ((abs_vals < 10 ** (-self.digits)) & (abs_vals > 0)).any()\n/usr/local/lib/python3.11/dist-packages/pandas/io/formats/format.py:1458: RuntimeWarning: invalid value encountered in greater\n  has_large_values = (abs_vals > 1e6).any()\n/usr/local/lib/python3.11/dist-packages/pandas/io/formats/format.py:1459: RuntimeWarning: invalid value encountered in less\n  has_small_values = ((abs_vals < 10 ** (-self.digits)) & (abs_vals > 0)).any()\n/usr/local/lib/python3.11/dist-packages/pandas/io/formats/format.py:1459: RuntimeWarning: invalid value encountered in greater\n  has_small_values = ((abs_vals < 10 ** (-self.digits)) & (abs_vals > 0)).any()\n",
          "output_type": "stream"
        },
        {
          "execution_count": 9,
          "output_type": "execute_result",
          "data": {
            "text/plain": "   Id  target    O2_1   O2_2  O2_3  O2_4  O2_5  O2_6  O2_7  NH4_1  ...  NO3_5  \\\n0   0   12.58   9.875   9.20   NaN   NaN   NaN   NaN   NaN  0.690  ...    NaN   \n1   3    9.37  10.300  10.75   NaN   NaN   NaN   NaN   NaN  0.710  ...    NaN   \n2   4    8.35   8.290   7.90   NaN   NaN   NaN   NaN   NaN  2.210  ...    NaN   \n3   5    9.57   8.820   6.80   NaN   NaN   NaN   NaN   NaN  0.595  ...    NaN   \n4   6    6.00   6.000   6.50   NaN   NaN   NaN   NaN   NaN  0.600  ...    NaN   \n\n   NO3_6  NO3_7  BOD5_1  BOD5_2  BOD5_3  BOD5_4  BOD5_5  BOD5_6  BOD5_7  \n0    NaN    NaN    4.80   5.850     NaN     NaN     NaN     NaN     NaN  \n1    NaN    NaN    5.88   6.835     NaN     NaN     NaN     NaN     NaN  \n2    NaN    NaN    3.20   2.700     NaN     NaN     NaN     NaN     NaN  \n3    NaN    NaN    7.70   7.055     NaN     NaN     NaN     NaN     NaN  \n4    NaN    NaN    5.50   5.300     NaN     NaN     NaN     NaN     NaN  \n\n[5 rows x 37 columns]",
            "text/html": "<div>\n<style scoped>\n    .dataframe tbody tr th:only-of-type {\n        vertical-align: middle;\n    }\n\n    .dataframe tbody tr th {\n        vertical-align: top;\n    }\n\n    .dataframe thead th {\n        text-align: right;\n    }\n</style>\n<table border=\"1\" class=\"dataframe\">\n  <thead>\n    <tr style=\"text-align: right;\">\n      <th></th>\n      <th>Id</th>\n      <th>target</th>\n      <th>O2_1</th>\n      <th>O2_2</th>\n      <th>O2_3</th>\n      <th>O2_4</th>\n      <th>O2_5</th>\n      <th>O2_6</th>\n      <th>O2_7</th>\n      <th>NH4_1</th>\n      <th>...</th>\n      <th>NO3_5</th>\n      <th>NO3_6</th>\n      <th>NO3_7</th>\n      <th>BOD5_1</th>\n      <th>BOD5_2</th>\n      <th>BOD5_3</th>\n      <th>BOD5_4</th>\n      <th>BOD5_5</th>\n      <th>BOD5_6</th>\n      <th>BOD5_7</th>\n    </tr>\n  </thead>\n  <tbody>\n    <tr>\n      <th>0</th>\n      <td>0</td>\n      <td>12.58</td>\n      <td>9.875</td>\n      <td>9.20</td>\n      <td>NaN</td>\n      <td>NaN</td>\n      <td>NaN</td>\n      <td>NaN</td>\n      <td>NaN</td>\n      <td>0.690</td>\n      <td>...</td>\n      <td>NaN</td>\n      <td>NaN</td>\n      <td>NaN</td>\n      <td>4.80</td>\n      <td>5.850</td>\n      <td>NaN</td>\n      <td>NaN</td>\n      <td>NaN</td>\n      <td>NaN</td>\n      <td>NaN</td>\n    </tr>\n    <tr>\n      <th>1</th>\n      <td>3</td>\n      <td>9.37</td>\n      <td>10.300</td>\n      <td>10.75</td>\n      <td>NaN</td>\n      <td>NaN</td>\n      <td>NaN</td>\n      <td>NaN</td>\n      <td>NaN</td>\n      <td>0.710</td>\n      <td>...</td>\n      <td>NaN</td>\n      <td>NaN</td>\n      <td>NaN</td>\n      <td>5.88</td>\n      <td>6.835</td>\n      <td>NaN</td>\n      <td>NaN</td>\n      <td>NaN</td>\n      <td>NaN</td>\n      <td>NaN</td>\n    </tr>\n    <tr>\n      <th>2</th>\n      <td>4</td>\n      <td>8.35</td>\n      <td>8.290</td>\n      <td>7.90</td>\n      <td>NaN</td>\n      <td>NaN</td>\n      <td>NaN</td>\n      <td>NaN</td>\n      <td>NaN</td>\n      <td>2.210</td>\n      <td>...</td>\n      <td>NaN</td>\n      <td>NaN</td>\n      <td>NaN</td>\n      <td>3.20</td>\n      <td>2.700</td>\n      <td>NaN</td>\n      <td>NaN</td>\n      <td>NaN</td>\n      <td>NaN</td>\n      <td>NaN</td>\n    </tr>\n    <tr>\n      <th>3</th>\n      <td>5</td>\n      <td>9.57</td>\n      <td>8.820</td>\n      <td>6.80</td>\n      <td>NaN</td>\n      <td>NaN</td>\n      <td>NaN</td>\n      <td>NaN</td>\n      <td>NaN</td>\n      <td>0.595</td>\n      <td>...</td>\n      <td>NaN</td>\n      <td>NaN</td>\n      <td>NaN</td>\n      <td>7.70</td>\n      <td>7.055</td>\n      <td>NaN</td>\n      <td>NaN</td>\n      <td>NaN</td>\n      <td>NaN</td>\n      <td>NaN</td>\n    </tr>\n    <tr>\n      <th>4</th>\n      <td>6</td>\n      <td>6.00</td>\n      <td>6.000</td>\n      <td>6.50</td>\n      <td>NaN</td>\n      <td>NaN</td>\n      <td>NaN</td>\n      <td>NaN</td>\n      <td>NaN</td>\n      <td>0.600</td>\n      <td>...</td>\n      <td>NaN</td>\n      <td>NaN</td>\n      <td>NaN</td>\n      <td>5.50</td>\n      <td>5.300</td>\n      <td>NaN</td>\n      <td>NaN</td>\n      <td>NaN</td>\n      <td>NaN</td>\n      <td>NaN</td>\n    </tr>\n  </tbody>\n</table>\n<p>5 rows × 37 columns</p>\n</div>"
          },
          "metadata": {}
        }
      ],
      "execution_count": null
    },
    {
      "cell_type": "code",
      "source": [
        "df.info()"
      ],
      "metadata": {
        "trusted": true,
        "execution": {
          "iopub.status.busy": "2025-09-09T13:24:54.422174Z",
          "iopub.execute_input": "2025-09-09T13:24:54.422505Z",
          "iopub.status.idle": "2025-09-09T13:24:54.450319Z",
          "shell.execute_reply.started": "2025-09-09T13:24:54.422485Z",
          "shell.execute_reply": "2025-09-09T13:24:54.449304Z"
        },
        "id": "t0hvaqbNuzva",
        "outputId": "6a486795-ddb7-442b-ff62-ca7a97ebe6fd"
      },
      "outputs": [
        {
          "name": "stdout",
          "text": "<class 'pandas.core.frame.DataFrame'>\nRangeIndex: 147 entries, 0 to 146\nData columns (total 37 columns):\n #   Column  Non-Null Count  Dtype  \n---  ------  --------------  -----  \n 0   Id      147 non-null    int64  \n 1   target  147 non-null    float64\n 2   O2_1    145 non-null    float64\n 3   O2_2    145 non-null    float64\n 4   O2_3    32 non-null     float64\n 5   O2_4    31 non-null     float64\n 6   O2_5    33 non-null     float64\n 7   O2_6    37 non-null     float64\n 8   O2_7    37 non-null     float64\n 9   NH4_1   145 non-null    float64\n 10  NH4_2   145 non-null    float64\n 11  NH4_3   32 non-null     float64\n 12  NH4_4   31 non-null     float64\n 13  NH4_5   33 non-null     float64\n 14  NH4_6   37 non-null     float64\n 15  NH4_7   37 non-null     float64\n 16  NO2_1   145 non-null    float64\n 17  NO2_2   145 non-null    float64\n 18  NO2_3   32 non-null     float64\n 19  NO2_4   31 non-null     float64\n 20  NO2_5   33 non-null     float64\n 21  NO2_6   37 non-null     float64\n 22  NO2_7   37 non-null     float64\n 23  NO3_1   145 non-null    float64\n 24  NO3_2   145 non-null    float64\n 25  NO3_3   32 non-null     float64\n 26  NO3_4   31 non-null     float64\n 27  NO3_5   33 non-null     float64\n 28  NO3_6   37 non-null     float64\n 29  NO3_7   37 non-null     float64\n 30  BOD5_1  145 non-null    float64\n 31  BOD5_2  145 non-null    float64\n 32  BOD5_3  32 non-null     float64\n 33  BOD5_4  31 non-null     float64\n 34  BOD5_5  33 non-null     float64\n 35  BOD5_6  37 non-null     float64\n 36  BOD5_7  37 non-null     float64\ndtypes: float64(36), int64(1)\nmemory usage: 42.6 KB\n",
          "output_type": "stream"
        }
      ],
      "execution_count": null
    },
    {
      "cell_type": "code",
      "source": [
        "df.isnull().sum()"
      ],
      "metadata": {
        "trusted": true,
        "execution": {
          "iopub.status.busy": "2025-09-09T13:25:12.051895Z",
          "iopub.execute_input": "2025-09-09T13:25:12.052246Z",
          "iopub.status.idle": "2025-09-09T13:25:12.060862Z",
          "shell.execute_reply.started": "2025-09-09T13:25:12.052224Z",
          "shell.execute_reply": "2025-09-09T13:25:12.059633Z"
        },
        "id": "W2q__be0uzva",
        "outputId": "4088e4f5-281b-4aac-d33a-5e44fd181b59"
      },
      "outputs": [
        {
          "execution_count": 11,
          "output_type": "execute_result",
          "data": {
            "text/plain": "Id          0\ntarget      0\nO2_1        2\nO2_2        2\nO2_3      115\nO2_4      116\nO2_5      114\nO2_6      110\nO2_7      110\nNH4_1       2\nNH4_2       2\nNH4_3     115\nNH4_4     116\nNH4_5     114\nNH4_6     110\nNH4_7     110\nNO2_1       2\nNO2_2       2\nNO2_3     115\nNO2_4     116\nNO2_5     114\nNO2_6     110\nNO2_7     110\nNO3_1       2\nNO3_2       2\nNO3_3     115\nNO3_4     116\nNO3_5     114\nNO3_6     110\nNO3_7     110\nBOD5_1      2\nBOD5_2      2\nBOD5_3    115\nBOD5_4    116\nBOD5_5    114\nBOD5_6    110\nBOD5_7    110\ndtype: int64"
          },
          "metadata": {}
        }
      ],
      "execution_count": null
    },
    {
      "cell_type": "code",
      "source": [
        "null_cols = list(df.columns[df.isnull().sum() > 100])"
      ],
      "metadata": {
        "trusted": true,
        "execution": {
          "iopub.status.busy": "2025-09-09T13:31:14.973027Z",
          "iopub.execute_input": "2025-09-09T13:31:14.973356Z",
          "iopub.status.idle": "2025-09-09T13:31:14.978996Z",
          "shell.execute_reply.started": "2025-09-09T13:31:14.973334Z",
          "shell.execute_reply": "2025-09-09T13:31:14.978081Z"
        },
        "id": "d-1d9p5Buzva"
      },
      "outputs": [],
      "execution_count": null
    },
    {
      "cell_type": "code",
      "source": [
        "df.drop(null_cols,axis=1,inplace = True)"
      ],
      "metadata": {
        "trusted": true,
        "execution": {
          "iopub.status.busy": "2025-09-09T13:31:47.122384Z",
          "iopub.execute_input": "2025-09-09T13:31:47.123104Z",
          "iopub.status.idle": "2025-09-09T13:31:47.128525Z",
          "shell.execute_reply.started": "2025-09-09T13:31:47.123073Z",
          "shell.execute_reply": "2025-09-09T13:31:47.127331Z"
        },
        "id": "ppNH5VHvuzva"
      },
      "outputs": [],
      "execution_count": null
    },
    {
      "cell_type": "code",
      "source": [
        "df.head()"
      ],
      "metadata": {
        "trusted": true,
        "execution": {
          "iopub.status.busy": "2025-09-09T13:31:53.572897Z",
          "iopub.execute_input": "2025-09-09T13:31:53.573252Z",
          "iopub.status.idle": "2025-09-09T13:31:53.592158Z",
          "shell.execute_reply.started": "2025-09-09T13:31:53.573224Z",
          "shell.execute_reply": "2025-09-09T13:31:53.591050Z"
        },
        "id": "PrRR-fPauzva",
        "outputId": "7298cb81-3451-4f09-b472-9a98f3fb82d8"
      },
      "outputs": [
        {
          "execution_count": 15,
          "output_type": "execute_result",
          "data": {
            "text/plain": "   Id  target    O2_1   O2_2  NH4_1  NH4_2   NO2_1   NO2_2  NO3_1  NO3_2  \\\n0   0   12.58   9.875   9.20  0.690  1.040  0.0940  0.0990   1.58  1.825   \n1   3    9.37  10.300  10.75  0.710  0.725  0.0585  0.0515   1.21  0.905   \n2   4    8.35   8.290   7.90  2.210  2.210  0.1000  0.1100   1.34  1.250   \n3   5    9.57   8.820   6.80  0.595  0.675  0.0460  0.0535   0.59  0.790   \n4   6    6.00   6.000   6.50  0.600  0.900  0.1800  0.3400   1.36  1.820   \n\n   BOD5_1  BOD5_2  \n0    4.80   5.850  \n1    5.88   6.835  \n2    3.20   2.700  \n3    7.70   7.055  \n4    5.50   5.300  ",
            "text/html": "<div>\n<style scoped>\n    .dataframe tbody tr th:only-of-type {\n        vertical-align: middle;\n    }\n\n    .dataframe tbody tr th {\n        vertical-align: top;\n    }\n\n    .dataframe thead th {\n        text-align: right;\n    }\n</style>\n<table border=\"1\" class=\"dataframe\">\n  <thead>\n    <tr style=\"text-align: right;\">\n      <th></th>\n      <th>Id</th>\n      <th>target</th>\n      <th>O2_1</th>\n      <th>O2_2</th>\n      <th>NH4_1</th>\n      <th>NH4_2</th>\n      <th>NO2_1</th>\n      <th>NO2_2</th>\n      <th>NO3_1</th>\n      <th>NO3_2</th>\n      <th>BOD5_1</th>\n      <th>BOD5_2</th>\n    </tr>\n  </thead>\n  <tbody>\n    <tr>\n      <th>0</th>\n      <td>0</td>\n      <td>12.58</td>\n      <td>9.875</td>\n      <td>9.20</td>\n      <td>0.690</td>\n      <td>1.040</td>\n      <td>0.0940</td>\n      <td>0.0990</td>\n      <td>1.58</td>\n      <td>1.825</td>\n      <td>4.80</td>\n      <td>5.850</td>\n    </tr>\n    <tr>\n      <th>1</th>\n      <td>3</td>\n      <td>9.37</td>\n      <td>10.300</td>\n      <td>10.75</td>\n      <td>0.710</td>\n      <td>0.725</td>\n      <td>0.0585</td>\n      <td>0.0515</td>\n      <td>1.21</td>\n      <td>0.905</td>\n      <td>5.88</td>\n      <td>6.835</td>\n    </tr>\n    <tr>\n      <th>2</th>\n      <td>4</td>\n      <td>8.35</td>\n      <td>8.290</td>\n      <td>7.90</td>\n      <td>2.210</td>\n      <td>2.210</td>\n      <td>0.1000</td>\n      <td>0.1100</td>\n      <td>1.34</td>\n      <td>1.250</td>\n      <td>3.20</td>\n      <td>2.700</td>\n    </tr>\n    <tr>\n      <th>3</th>\n      <td>5</td>\n      <td>9.57</td>\n      <td>8.820</td>\n      <td>6.80</td>\n      <td>0.595</td>\n      <td>0.675</td>\n      <td>0.0460</td>\n      <td>0.0535</td>\n      <td>0.59</td>\n      <td>0.790</td>\n      <td>7.70</td>\n      <td>7.055</td>\n    </tr>\n    <tr>\n      <th>4</th>\n      <td>6</td>\n      <td>6.00</td>\n      <td>6.000</td>\n      <td>6.50</td>\n      <td>0.600</td>\n      <td>0.900</td>\n      <td>0.1800</td>\n      <td>0.3400</td>\n      <td>1.36</td>\n      <td>1.820</td>\n      <td>5.50</td>\n      <td>5.300</td>\n    </tr>\n  </tbody>\n</table>\n</div>"
          },
          "metadata": {}
        }
      ],
      "execution_count": null
    },
    {
      "cell_type": "code",
      "source": [
        "df.isnull().sum()"
      ],
      "metadata": {
        "trusted": true,
        "execution": {
          "iopub.status.busy": "2025-09-09T13:32:05.163083Z",
          "iopub.execute_input": "2025-09-09T13:32:05.163445Z",
          "iopub.status.idle": "2025-09-09T13:32:05.171157Z",
          "shell.execute_reply.started": "2025-09-09T13:32:05.163422Z",
          "shell.execute_reply": "2025-09-09T13:32:05.169969Z"
        },
        "id": "WrKFw8Gluzva",
        "outputId": "24b95eb0-f68a-4761-8a5e-7fd4f7e7c215"
      },
      "outputs": [
        {
          "execution_count": 16,
          "output_type": "execute_result",
          "data": {
            "text/plain": "Id        0\ntarget    0\nO2_1      2\nO2_2      2\nNH4_1     2\nNH4_2     2\nNO2_1     2\nNO2_2     2\nNO3_1     2\nNO3_2     2\nBOD5_1    2\nBOD5_2    2\ndtype: int64"
          },
          "metadata": {}
        }
      ],
      "execution_count": null
    },
    {
      "cell_type": "code",
      "source": [
        "df.drop(columns=[\"Id\"])"
      ],
      "metadata": {
        "trusted": true,
        "execution": {
          "iopub.status.busy": "2025-09-09T13:32:29.258915Z",
          "iopub.execute_input": "2025-09-09T13:32:29.259268Z",
          "iopub.status.idle": "2025-09-09T13:32:29.279827Z",
          "shell.execute_reply.started": "2025-09-09T13:32:29.259244Z",
          "shell.execute_reply": "2025-09-09T13:32:29.279014Z"
        },
        "id": "LbKml23muzva",
        "outputId": "499d5505-0af1-43fc-856d-01d8184f3393"
      },
      "outputs": [
        {
          "execution_count": 17,
          "output_type": "execute_result",
          "data": {
            "text/plain": "     target    O2_1   O2_2  NH4_1  NH4_2   NO2_1   NO2_2  NO3_1  NO3_2  \\\n0     12.58   9.875   9.20  0.690  1.040  0.0940  0.0990   1.58  1.825   \n1      9.37  10.300  10.75  0.710  0.725  0.0585  0.0515   1.21  0.905   \n2      8.35   8.290   7.90  2.210  2.210  0.1000  0.1100   1.34  1.250   \n3      9.57   8.820   6.80  0.595  0.675  0.0460  0.0535   0.59  0.790   \n4      6.00   6.000   6.50  0.600  0.900  0.1800  0.3400   1.36  1.820   \n..      ...     ...    ...    ...    ...     ...     ...    ...    ...   \n142    6.80   7.700   7.50  0.380  1.900  0.6200  0.0640   2.80  3.330   \n143    5.30   6.300   5.65  0.370  0.500  0.6900  0.9500   4.37  3.160   \n144    8.60   8.600  11.00  2.400  3.600  0.1500  0.1400   0.53  3.000   \n145    9.90   9.600  14.10  0.310  0.500  0.2100  0.0800   3.10  3.500   \n146    6.50   6.500   7.70  0.190  0.260  0.1300  0.0720   0.00  0.000   \n\n     BOD5_1  BOD5_2  \n0      4.80   5.850  \n1      5.88   6.835  \n2      3.20   2.700  \n3      7.70   7.055  \n4      5.50   5.300  \n..      ...     ...  \n142    5.00   5.800  \n143    8.00   8.000  \n144    6.80   7.200  \n145    5.20   7.800  \n146    3.40   4.100  \n\n[147 rows x 11 columns]",
            "text/html": "<div>\n<style scoped>\n    .dataframe tbody tr th:only-of-type {\n        vertical-align: middle;\n    }\n\n    .dataframe tbody tr th {\n        vertical-align: top;\n    }\n\n    .dataframe thead th {\n        text-align: right;\n    }\n</style>\n<table border=\"1\" class=\"dataframe\">\n  <thead>\n    <tr style=\"text-align: right;\">\n      <th></th>\n      <th>target</th>\n      <th>O2_1</th>\n      <th>O2_2</th>\n      <th>NH4_1</th>\n      <th>NH4_2</th>\n      <th>NO2_1</th>\n      <th>NO2_2</th>\n      <th>NO3_1</th>\n      <th>NO3_2</th>\n      <th>BOD5_1</th>\n      <th>BOD5_2</th>\n    </tr>\n  </thead>\n  <tbody>\n    <tr>\n      <th>0</th>\n      <td>12.58</td>\n      <td>9.875</td>\n      <td>9.20</td>\n      <td>0.690</td>\n      <td>1.040</td>\n      <td>0.0940</td>\n      <td>0.0990</td>\n      <td>1.58</td>\n      <td>1.825</td>\n      <td>4.80</td>\n      <td>5.850</td>\n    </tr>\n    <tr>\n      <th>1</th>\n      <td>9.37</td>\n      <td>10.300</td>\n      <td>10.75</td>\n      <td>0.710</td>\n      <td>0.725</td>\n      <td>0.0585</td>\n      <td>0.0515</td>\n      <td>1.21</td>\n      <td>0.905</td>\n      <td>5.88</td>\n      <td>6.835</td>\n    </tr>\n    <tr>\n      <th>2</th>\n      <td>8.35</td>\n      <td>8.290</td>\n      <td>7.90</td>\n      <td>2.210</td>\n      <td>2.210</td>\n      <td>0.1000</td>\n      <td>0.1100</td>\n      <td>1.34</td>\n      <td>1.250</td>\n      <td>3.20</td>\n      <td>2.700</td>\n    </tr>\n    <tr>\n      <th>3</th>\n      <td>9.57</td>\n      <td>8.820</td>\n      <td>6.80</td>\n      <td>0.595</td>\n      <td>0.675</td>\n      <td>0.0460</td>\n      <td>0.0535</td>\n      <td>0.59</td>\n      <td>0.790</td>\n      <td>7.70</td>\n      <td>7.055</td>\n    </tr>\n    <tr>\n      <th>4</th>\n      <td>6.00</td>\n      <td>6.000</td>\n      <td>6.50</td>\n      <td>0.600</td>\n      <td>0.900</td>\n      <td>0.1800</td>\n      <td>0.3400</td>\n      <td>1.36</td>\n      <td>1.820</td>\n      <td>5.50</td>\n      <td>5.300</td>\n    </tr>\n    <tr>\n      <th>...</th>\n      <td>...</td>\n      <td>...</td>\n      <td>...</td>\n      <td>...</td>\n      <td>...</td>\n      <td>...</td>\n      <td>...</td>\n      <td>...</td>\n      <td>...</td>\n      <td>...</td>\n      <td>...</td>\n    </tr>\n    <tr>\n      <th>142</th>\n      <td>6.80</td>\n      <td>7.700</td>\n      <td>7.50</td>\n      <td>0.380</td>\n      <td>1.900</td>\n      <td>0.6200</td>\n      <td>0.0640</td>\n      <td>2.80</td>\n      <td>3.330</td>\n      <td>5.00</td>\n      <td>5.800</td>\n    </tr>\n    <tr>\n      <th>143</th>\n      <td>5.30</td>\n      <td>6.300</td>\n      <td>5.65</td>\n      <td>0.370</td>\n      <td>0.500</td>\n      <td>0.6900</td>\n      <td>0.9500</td>\n      <td>4.37</td>\n      <td>3.160</td>\n      <td>8.00</td>\n      <td>8.000</td>\n    </tr>\n    <tr>\n      <th>144</th>\n      <td>8.60</td>\n      <td>8.600</td>\n      <td>11.00</td>\n      <td>2.400</td>\n      <td>3.600</td>\n      <td>0.1500</td>\n      <td>0.1400</td>\n      <td>0.53</td>\n      <td>3.000</td>\n      <td>6.80</td>\n      <td>7.200</td>\n    </tr>\n    <tr>\n      <th>145</th>\n      <td>9.90</td>\n      <td>9.600</td>\n      <td>14.10</td>\n      <td>0.310</td>\n      <td>0.500</td>\n      <td>0.2100</td>\n      <td>0.0800</td>\n      <td>3.10</td>\n      <td>3.500</td>\n      <td>5.20</td>\n      <td>7.800</td>\n    </tr>\n    <tr>\n      <th>146</th>\n      <td>6.50</td>\n      <td>6.500</td>\n      <td>7.70</td>\n      <td>0.190</td>\n      <td>0.260</td>\n      <td>0.1300</td>\n      <td>0.0720</td>\n      <td>0.00</td>\n      <td>0.000</td>\n      <td>3.40</td>\n      <td>4.100</td>\n    </tr>\n  </tbody>\n</table>\n<p>147 rows × 11 columns</p>\n</div>"
          },
          "metadata": {}
        }
      ],
      "execution_count": null
    },
    {
      "cell_type": "code",
      "source": [
        "print(\"Columns with missing values:\", (df.isna().sum(axis=0) != 0).sum())\n",
        "print(\"Rows with missing values:\", (df.isna().sum(axis=1) != 0).sum())"
      ],
      "metadata": {
        "trusted": true,
        "execution": {
          "iopub.status.busy": "2025-09-09T13:33:17.644972Z",
          "iopub.execute_input": "2025-09-09T13:33:17.645531Z",
          "iopub.status.idle": "2025-09-09T13:33:17.654793Z",
          "shell.execute_reply.started": "2025-09-09T13:33:17.645499Z",
          "shell.execute_reply": "2025-09-09T13:33:17.653698Z"
        },
        "id": "rP1eowMeuzvb",
        "outputId": "db84e557-4ea1-4151-b6d3-0a14b8aad53a"
      },
      "outputs": [
        {
          "name": "stdout",
          "text": "Columns with missing values: 10\nRows with missing values: 3\n",
          "output_type": "stream"
        }
      ],
      "execution_count": null
    },
    {
      "cell_type": "code",
      "source": [
        "df.dropna(axis=0, inplace=True)\n"
      ],
      "metadata": {
        "trusted": true,
        "execution": {
          "iopub.status.busy": "2025-09-09T13:34:23.743079Z",
          "iopub.execute_input": "2025-09-09T13:34:23.743885Z",
          "iopub.status.idle": "2025-09-09T13:34:23.749505Z",
          "shell.execute_reply.started": "2025-09-09T13:34:23.743859Z",
          "shell.execute_reply": "2025-09-09T13:34:23.748496Z"
        },
        "id": "dIP1S-XFuzvb"
      },
      "outputs": [],
      "execution_count": null
    },
    {
      "cell_type": "code",
      "source": [
        "df.isnull().sum()"
      ],
      "metadata": {
        "trusted": true,
        "execution": {
          "iopub.status.busy": "2025-09-09T13:34:34.094019Z",
          "iopub.execute_input": "2025-09-09T13:34:34.094347Z",
          "iopub.status.idle": "2025-09-09T13:34:34.102383Z",
          "shell.execute_reply.started": "2025-09-09T13:34:34.094325Z",
          "shell.execute_reply": "2025-09-09T13:34:34.101394Z"
        },
        "id": "5MROes2wuzvb",
        "outputId": "4889ca11-7e9f-4245-9aaa-6bd332173912"
      },
      "outputs": [
        {
          "execution_count": 21,
          "output_type": "execute_result",
          "data": {
            "text/plain": "Id        0\ntarget    0\nO2_1      0\nO2_2      0\nNH4_1     0\nNH4_2     0\nNO2_1     0\nNO2_2     0\nNO3_1     0\nNO3_2     0\nBOD5_1    0\nBOD5_2    0\ndtype: int64"
          },
          "metadata": {}
        }
      ],
      "execution_count": null
    },
    {
      "cell_type": "markdown",
      "source": [
        "#train"
      ],
      "metadata": {
        "id": "2uZlVcKUuzvb"
      }
    },
    {
      "cell_type": "code",
      "source": [
        "x = df.drop(columns=[\"target\"])\n",
        "y = df['target']"
      ],
      "metadata": {
        "trusted": true,
        "execution": {
          "iopub.status.busy": "2025-09-09T13:36:33.743818Z",
          "iopub.execute_input": "2025-09-09T13:36:33.744226Z",
          "iopub.status.idle": "2025-09-09T13:36:33.749496Z",
          "shell.execute_reply.started": "2025-09-09T13:36:33.744195Z",
          "shell.execute_reply": "2025-09-09T13:36:33.748610Z"
        },
        "id": "6KkOQS2Puzvb"
      },
      "outputs": [],
      "execution_count": null
    },
    {
      "cell_type": "code",
      "source": [
        "scaler = StandardScaler()\n",
        "\n",
        "x = scaler.fit_transform(x)"
      ],
      "metadata": {
        "trusted": true,
        "execution": {
          "iopub.status.busy": "2025-09-09T13:38:06.422872Z",
          "iopub.execute_input": "2025-09-09T13:38:06.423219Z",
          "iopub.status.idle": "2025-09-09T13:38:06.429002Z",
          "shell.execute_reply.started": "2025-09-09T13:38:06.423196Z",
          "shell.execute_reply": "2025-09-09T13:38:06.428127Z"
        },
        "id": "pBmZiyfQuzvb"
      },
      "outputs": [],
      "execution_count": null
    },
    {
      "cell_type": "code",
      "source": [
        "x_train,x_test,y_train,y_test = train_test_split(\n",
        "    x,y,\n",
        "    test_size = 0.7,\n",
        "    random_state = 42\n",
        ")"
      ],
      "metadata": {
        "trusted": true,
        "execution": {
          "iopub.status.busy": "2025-09-09T13:39:13.663527Z",
          "iopub.execute_input": "2025-09-09T13:39:13.663815Z",
          "iopub.status.idle": "2025-09-09T13:39:13.670980Z",
          "shell.execute_reply.started": "2025-09-09T13:39:13.663796Z",
          "shell.execute_reply": "2025-09-09T13:39:13.669542Z"
        },
        "id": "XYbBW0j7uzvb"
      },
      "outputs": [],
      "execution_count": null
    },
    {
      "cell_type": "code",
      "source": [
        "model = LinearRegression()\n",
        "\n",
        "model.fit(x_train,y_train)"
      ],
      "metadata": {
        "trusted": true,
        "execution": {
          "iopub.status.busy": "2025-09-09T13:40:12.415771Z",
          "iopub.execute_input": "2025-09-09T13:40:12.416078Z",
          "iopub.status.idle": "2025-09-09T13:40:12.511730Z",
          "shell.execute_reply.started": "2025-09-09T13:40:12.416057Z",
          "shell.execute_reply": "2025-09-09T13:40:12.510884Z"
        },
        "id": "bVjtjjsCuzvb",
        "outputId": "c97509af-d7b5-4f74-d19c-6ece50cb5377"
      },
      "outputs": [
        {
          "execution_count": 29,
          "output_type": "execute_result",
          "data": {
            "text/plain": "LinearRegression()",
            "text/html": "<style>#sk-container-id-1 {color: black;background-color: white;}#sk-container-id-1 pre{padding: 0;}#sk-container-id-1 div.sk-toggleable {background-color: white;}#sk-container-id-1 label.sk-toggleable__label {cursor: pointer;display: block;width: 100%;margin-bottom: 0;padding: 0.3em;box-sizing: border-box;text-align: center;}#sk-container-id-1 label.sk-toggleable__label-arrow:before {content: \"▸\";float: left;margin-right: 0.25em;color: #696969;}#sk-container-id-1 label.sk-toggleable__label-arrow:hover:before {color: black;}#sk-container-id-1 div.sk-estimator:hover label.sk-toggleable__label-arrow:before {color: black;}#sk-container-id-1 div.sk-toggleable__content {max-height: 0;max-width: 0;overflow: hidden;text-align: left;background-color: #f0f8ff;}#sk-container-id-1 div.sk-toggleable__content pre {margin: 0.2em;color: black;border-radius: 0.25em;background-color: #f0f8ff;}#sk-container-id-1 input.sk-toggleable__control:checked~div.sk-toggleable__content {max-height: 200px;max-width: 100%;overflow: auto;}#sk-container-id-1 input.sk-toggleable__control:checked~label.sk-toggleable__label-arrow:before {content: \"▾\";}#sk-container-id-1 div.sk-estimator input.sk-toggleable__control:checked~label.sk-toggleable__label {background-color: #d4ebff;}#sk-container-id-1 div.sk-label input.sk-toggleable__control:checked~label.sk-toggleable__label {background-color: #d4ebff;}#sk-container-id-1 input.sk-hidden--visually {border: 0;clip: rect(1px 1px 1px 1px);clip: rect(1px, 1px, 1px, 1px);height: 1px;margin: -1px;overflow: hidden;padding: 0;position: absolute;width: 1px;}#sk-container-id-1 div.sk-estimator {font-family: monospace;background-color: #f0f8ff;border: 1px dotted black;border-radius: 0.25em;box-sizing: border-box;margin-bottom: 0.5em;}#sk-container-id-1 div.sk-estimator:hover {background-color: #d4ebff;}#sk-container-id-1 div.sk-parallel-item::after {content: \"\";width: 100%;border-bottom: 1px solid gray;flex-grow: 1;}#sk-container-id-1 div.sk-label:hover label.sk-toggleable__label {background-color: #d4ebff;}#sk-container-id-1 div.sk-serial::before {content: \"\";position: absolute;border-left: 1px solid gray;box-sizing: border-box;top: 0;bottom: 0;left: 50%;z-index: 0;}#sk-container-id-1 div.sk-serial {display: flex;flex-direction: column;align-items: center;background-color: white;padding-right: 0.2em;padding-left: 0.2em;position: relative;}#sk-container-id-1 div.sk-item {position: relative;z-index: 1;}#sk-container-id-1 div.sk-parallel {display: flex;align-items: stretch;justify-content: center;background-color: white;position: relative;}#sk-container-id-1 div.sk-item::before, #sk-container-id-1 div.sk-parallel-item::before {content: \"\";position: absolute;border-left: 1px solid gray;box-sizing: border-box;top: 0;bottom: 0;left: 50%;z-index: -1;}#sk-container-id-1 div.sk-parallel-item {display: flex;flex-direction: column;z-index: 1;position: relative;background-color: white;}#sk-container-id-1 div.sk-parallel-item:first-child::after {align-self: flex-end;width: 50%;}#sk-container-id-1 div.sk-parallel-item:last-child::after {align-self: flex-start;width: 50%;}#sk-container-id-1 div.sk-parallel-item:only-child::after {width: 0;}#sk-container-id-1 div.sk-dashed-wrapped {border: 1px dashed gray;margin: 0 0.4em 0.5em 0.4em;box-sizing: border-box;padding-bottom: 0.4em;background-color: white;}#sk-container-id-1 div.sk-label label {font-family: monospace;font-weight: bold;display: inline-block;line-height: 1.2em;}#sk-container-id-1 div.sk-label-container {text-align: center;}#sk-container-id-1 div.sk-container {/* jupyter's `normalize.less` sets `[hidden] { display: none; }` but bootstrap.min.css set `[hidden] { display: none !important; }` so we also need the `!important` here to be able to override the default hidden behavior on the sphinx rendered scikit-learn.org. See: https://github.com/scikit-learn/scikit-learn/issues/21755 */display: inline-block !important;position: relative;}#sk-container-id-1 div.sk-text-repr-fallback {display: none;}</style><div id=\"sk-container-id-1\" class=\"sk-top-container\"><div class=\"sk-text-repr-fallback\"><pre>LinearRegression()</pre><b>In a Jupyter environment, please rerun this cell to show the HTML representation or trust the notebook. <br />On GitHub, the HTML representation is unable to render, please try loading this page with nbviewer.org.</b></div><div class=\"sk-container\" hidden><div class=\"sk-item\"><div class=\"sk-estimator sk-toggleable\"><input class=\"sk-toggleable__control sk-hidden--visually\" id=\"sk-estimator-id-1\" type=\"checkbox\" checked><label for=\"sk-estimator-id-1\" class=\"sk-toggleable__label sk-toggleable__label-arrow\">LinearRegression</label><div class=\"sk-toggleable__content\"><pre>LinearRegression()</pre></div></div></div></div></div>"
          },
          "metadata": {}
        }
      ],
      "execution_count": null
    },
    {
      "cell_type": "code",
      "source": [
        "model_R2 = model.score(x_test, y_test)\n",
        "print(\"r2 score\",model_R2)"
      ],
      "metadata": {
        "trusted": true,
        "execution": {
          "iopub.status.busy": "2025-09-09T13:40:45.322717Z",
          "iopub.execute_input": "2025-09-09T13:40:45.323001Z",
          "iopub.status.idle": "2025-09-09T13:40:45.331402Z",
          "shell.execute_reply.started": "2025-09-09T13:40:45.322982Z",
          "shell.execute_reply": "2025-09-09T13:40:45.330471Z"
        },
        "id": "-qzKXxzouzvb",
        "outputId": "93021596-5b1b-4683-b555-68a350646dd9"
      },
      "outputs": [
        {
          "name": "stdout",
          "text": "r2 score -0.4153974367289526\n",
          "output_type": "stream"
        }
      ],
      "execution_count": null
    },
    {
      "cell_type": "markdown",
      "source": [
        "#Predicting High or Low Dissolved Oxygen"
      ],
      "metadata": {
        "id": "oiv8sIR_uzvb"
      }
    },
    {
      "cell_type": "code",
      "source": [
        "y"
      ],
      "metadata": {
        "trusted": true,
        "execution": {
          "iopub.status.busy": "2025-09-09T13:42:26.765293Z",
          "iopub.execute_input": "2025-09-09T13:42:26.765956Z",
          "iopub.status.idle": "2025-09-09T13:42:26.777844Z",
          "shell.execute_reply.started": "2025-09-09T13:42:26.765895Z",
          "shell.execute_reply": "2025-09-09T13:42:26.776199Z"
        },
        "id": "7i8WtW7zuzvb",
        "outputId": "a6143e26-8f6b-47dc-db48-24ba1d5ae0b1"
      },
      "outputs": [
        {
          "execution_count": 32,
          "output_type": "execute_result",
          "data": {
            "text/plain": "0      12.58\n1       9.37\n2       8.35\n3       9.57\n4       6.00\n       ...  \n142     6.80\n143     5.30\n144     8.60\n145     9.90\n146     6.50\nName: target, Length: 144, dtype: float64"
          },
          "metadata": {}
        }
      ],
      "execution_count": null
    },
    {
      "cell_type": "code",
      "source": [
        "y_new = pd.qcut(y, q=2, labels=[0, 1])"
      ],
      "metadata": {
        "trusted": true,
        "execution": {
          "iopub.status.busy": "2025-09-09T13:42:48.343022Z",
          "iopub.execute_input": "2025-09-09T13:42:48.343354Z",
          "iopub.status.idle": "2025-09-09T13:42:48.381599Z",
          "shell.execute_reply.started": "2025-09-09T13:42:48.343332Z",
          "shell.execute_reply": "2025-09-09T13:42:48.379851Z"
        },
        "id": "sqhLTAuduzvb"
      },
      "outputs": [],
      "execution_count": null
    },
    {
      "cell_type": "code",
      "source": [
        "x_train, x_test, y_train, y_test = train_test_split(x, y_new, train_size=0.7)"
      ],
      "metadata": {
        "trusted": true,
        "execution": {
          "iopub.status.busy": "2025-09-09T13:43:15.073206Z",
          "iopub.execute_input": "2025-09-09T13:43:15.073515Z",
          "iopub.status.idle": "2025-09-09T13:43:15.080952Z",
          "shell.execute_reply.started": "2025-09-09T13:43:15.073493Z",
          "shell.execute_reply": "2025-09-09T13:43:15.079681Z"
        },
        "id": "eAYYdL3Huzvb"
      },
      "outputs": [],
      "execution_count": null
    },
    {
      "cell_type": "code",
      "source": [
        "model = LogisticRegression()\n",
        "model.fit(x_train, y_train)\n",
        "model_acc = model.score(x_test, y_test)"
      ],
      "metadata": {
        "trusted": true,
        "execution": {
          "iopub.status.busy": "2025-09-09T13:43:25.404301Z",
          "iopub.execute_input": "2025-09-09T13:43:25.404617Z",
          "iopub.status.idle": "2025-09-09T13:43:25.433209Z",
          "shell.execute_reply.started": "2025-09-09T13:43:25.404594Z",
          "shell.execute_reply": "2025-09-09T13:43:25.432146Z"
        },
        "id": "qgGISs_suzvc"
      },
      "outputs": [],
      "execution_count": null
    },
    {
      "cell_type": "code",
      "source": [
        "print(\"Model Accuracy\",model_acc)"
      ],
      "metadata": {
        "trusted": true,
        "execution": {
          "iopub.status.busy": "2025-09-09T13:43:54.213890Z",
          "iopub.execute_input": "2025-09-09T13:43:54.214373Z",
          "iopub.status.idle": "2025-09-09T13:43:54.219485Z",
          "shell.execute_reply.started": "2025-09-09T13:43:54.214339Z",
          "shell.execute_reply": "2025-09-09T13:43:54.218560Z"
        },
        "id": "P621M0HWuzvc",
        "outputId": "4737f5d7-3b22-44a5-c2ef-30b51b17668e"
      },
      "outputs": [
        {
          "name": "stdout",
          "text": "Model Accuracy 0.7954545454545454\n",
          "output_type": "stream"
        }
      ],
      "execution_count": null
    },
    {
      "cell_type": "code",
      "source": [],
      "metadata": {
        "trusted": true,
        "id": "7qpEIxhXuzvc"
      },
      "outputs": [],
      "execution_count": null
    }
  ]
}